{
 "cells": [
  {
   "cell_type": "markdown",
   "id": "488a0f5a",
   "metadata": {
    "id": "lC6R4QaV0Ci0"
   },
   "source": [
    "# Sentiment Analysis of Financial News Using NLTK"
   ]
  },
  {
   "cell_type": "markdown",
   "id": "b5dc08a2",
   "metadata": {
    "id": "Iq7zwt8VJh1Z"
   },
   "source": [
    "We have to predict the sentiment of fiancial news using nltk"
   ]
  },
  {
   "cell_type": "markdown",
   "id": "98621674",
   "metadata": {
    "id": "Y6-xhkpm0MqU"
   },
   "source": [
    "#About Dataset\n",
    "\n",
    "This dataset contains 3 csv file\n",
    "\n",
    "cnbc headline   (3080, 3)\n",
    "\n",
    "gaurdian headline   (17800, 2)\n",
    "\n",
    "reuters headline   (32770, 3)\n"
   ]
  },
  {
   "cell_type": "markdown",
   "id": "ae5a8cf1",
   "metadata": {
    "id": "sZRF0xat134_"
   },
   "source": [
    "# Columns Provided in the Dataset\n",
    "\n",
    "cnbc headline\n",
    "1. time\n",
    "2. headlines\n",
    "3. Description\n",
    "\n",
    "gaurdian headline\n",
    "1. time\n",
    "2. headline\n",
    "\n",
    "reuters headline\n",
    "1. time\n",
    "2. headline\n",
    "3. description\n"
   ]
  },
  {
   "cell_type": "markdown",
   "id": "a7576b8d",
   "metadata": {
    "id": "5Q1HBH6RfLoZ"
   },
   "source": [
    "# What is NLTK ?\n",
    "\n",
    "The Natural Language Toolkit (NLTK) is a platform used for building Python programs that work with human language data for applying in statistical natural language processing (NLP).\n",
    "\n",
    "It contains text processing libraries for tokenization, parsing, classification, stemming, tagging and semantic reasoning.\n",
    "\n",
    "\n",
    "\n",
    "\n",
    "\n",
    "# What is sentiment analysis ?\n",
    "\n",
    "Sentiment analysis is the process of detecting positive or negative sentiment in text. It’s often used by businesses to detect sentiment in social data, gauge brand reputation, and understand customers."
   ]
  },
  {
   "cell_type": "code",
   "execution_count": 90,
   "id": "20b08ce5",
   "metadata": {},
   "outputs": [
    {
     "name": "stderr",
     "output_type": "stream",
     "text": [
      "[nltk_data] Downloading package stopwords to\n",
      "[nltk_data]     C:\\Users\\kiran\\AppData\\Roaming\\nltk_data...\n",
      "[nltk_data]   Package stopwords is already up-to-date!\n"
     ]
    }
   ],
   "source": [
    "import numpy as np\n",
    "import pandas as pd\n",
    "import nltk\n",
    "import re\n",
    "from nltk.stem import PorterStemmer, WordNetLemmatizer\n",
    "from nltk.tokenize import word_tokenize\n",
    "import matplotlib.pyplot as plt\n",
    "import seaborn as sns\n",
    "%matplotlib inline\n",
    "\n",
    "\n",
    "nltk.download('stopwords')\n",
    "from nltk.corpus import stopwords\n",
    "stopwords = stopwords.words('english')\n",
    "\n",
    "import warnings\n",
    "warnings.filterwarnings('ignore')"
   ]
  },
  {
   "cell_type": "markdown",
   "id": "c479e163",
   "metadata": {},
   "source": [
    "## Basic operations on CNBC headlines dataset"
   ]
  },
  {
   "cell_type": "code",
   "execution_count": 91,
   "id": "8b23f4ce",
   "metadata": {},
   "outputs": [],
   "source": [
    "cnbc = pd.read_csv('cnbc_headlines.csv')"
   ]
  },
  {
   "cell_type": "code",
   "execution_count": 92,
   "id": "71913b1a",
   "metadata": {},
   "outputs": [
    {
     "data": {
      "text/html": [
       "<div>\n",
       "<style scoped>\n",
       "    .dataframe tbody tr th:only-of-type {\n",
       "        vertical-align: middle;\n",
       "    }\n",
       "\n",
       "    .dataframe tbody tr th {\n",
       "        vertical-align: top;\n",
       "    }\n",
       "\n",
       "    .dataframe thead th {\n",
       "        text-align: right;\n",
       "    }\n",
       "</style>\n",
       "<table border=\"1\" class=\"dataframe\">\n",
       "  <thead>\n",
       "    <tr style=\"text-align: right;\">\n",
       "      <th></th>\n",
       "      <th>Headlines</th>\n",
       "      <th>Time</th>\n",
       "      <th>Description</th>\n",
       "    </tr>\n",
       "  </thead>\n",
       "  <tbody>\n",
       "    <tr>\n",
       "      <th>0</th>\n",
       "      <td>Jim Cramer: A better way to invest in the Covi...</td>\n",
       "      <td>7:51  PM ET Fri, 17 July 2020</td>\n",
       "      <td>\"Mad Money\" host Jim Cramer recommended buying...</td>\n",
       "    </tr>\n",
       "    <tr>\n",
       "      <th>1</th>\n",
       "      <td>Cramer's lightning round: I would own Teradyne</td>\n",
       "      <td>7:33  PM ET Fri, 17 July 2020</td>\n",
       "      <td>\"Mad Money\" host Jim Cramer rings the lightnin...</td>\n",
       "    </tr>\n",
       "    <tr>\n",
       "      <th>2</th>\n",
       "      <td>NaN</td>\n",
       "      <td>NaN</td>\n",
       "      <td>NaN</td>\n",
       "    </tr>\n",
       "    <tr>\n",
       "      <th>3</th>\n",
       "      <td>Cramer's week ahead: Big week for earnings, ev...</td>\n",
       "      <td>7:25  PM ET Fri, 17 July 2020</td>\n",
       "      <td>\"We'll pay more for the earnings of the non-Co...</td>\n",
       "    </tr>\n",
       "    <tr>\n",
       "      <th>4</th>\n",
       "      <td>IQ Capital CEO Keith Bliss says tech and healt...</td>\n",
       "      <td>4:24  PM ET Fri, 17 July 2020</td>\n",
       "      <td>Keith Bliss, IQ Capital CEO, joins \"Closing Be...</td>\n",
       "    </tr>\n",
       "  </tbody>\n",
       "</table>\n",
       "</div>"
      ],
      "text/plain": [
       "                                           Headlines  \\\n",
       "0  Jim Cramer: A better way to invest in the Covi...   \n",
       "1     Cramer's lightning round: I would own Teradyne   \n",
       "2                                                NaN   \n",
       "3  Cramer's week ahead: Big week for earnings, ev...   \n",
       "4  IQ Capital CEO Keith Bliss says tech and healt...   \n",
       "\n",
       "                             Time  \\\n",
       "0   7:51  PM ET Fri, 17 July 2020   \n",
       "1   7:33  PM ET Fri, 17 July 2020   \n",
       "2                             NaN   \n",
       "3   7:25  PM ET Fri, 17 July 2020   \n",
       "4   4:24  PM ET Fri, 17 July 2020   \n",
       "\n",
       "                                         Description  \n",
       "0  \"Mad Money\" host Jim Cramer recommended buying...  \n",
       "1  \"Mad Money\" host Jim Cramer rings the lightnin...  \n",
       "2                                                NaN  \n",
       "3  \"We'll pay more for the earnings of the non-Co...  \n",
       "4  Keith Bliss, IQ Capital CEO, joins \"Closing Be...  "
      ]
     },
     "execution_count": 92,
     "metadata": {},
     "output_type": "execute_result"
    }
   ],
   "source": [
    "cnbc.head()"
   ]
  },
  {
   "cell_type": "code",
   "execution_count": 93,
   "id": "959bf967",
   "metadata": {},
   "outputs": [
    {
     "data": {
      "text/plain": [
       "(3080, 3)"
      ]
     },
     "execution_count": 93,
     "metadata": {},
     "output_type": "execute_result"
    }
   ],
   "source": [
    "cnbc.shape"
   ]
  },
  {
   "cell_type": "code",
   "execution_count": 94,
   "id": "c25d56a6",
   "metadata": {},
   "outputs": [
    {
     "data": {
      "text/plain": [
       "Index(['Headlines', 'Time', 'Description'], dtype='object')"
      ]
     },
     "execution_count": 94,
     "metadata": {},
     "output_type": "execute_result"
    }
   ],
   "source": [
    "cnbc.columns"
   ]
  },
  {
   "cell_type": "code",
   "execution_count": 95,
   "id": "91c2f959",
   "metadata": {},
   "outputs": [
    {
     "name": "stdout",
     "output_type": "stream",
     "text": [
      "<class 'pandas.core.frame.DataFrame'>\n",
      "RangeIndex: 3080 entries, 0 to 3079\n",
      "Data columns (total 3 columns):\n",
      " #   Column       Non-Null Count  Dtype \n",
      "---  ------       --------------  ----- \n",
      " 0   Headlines    2800 non-null   object\n",
      " 1   Time         2800 non-null   object\n",
      " 2   Description  2800 non-null   object\n",
      "dtypes: object(3)\n",
      "memory usage: 72.3+ KB\n"
     ]
    }
   ],
   "source": [
    "cnbc.info()"
   ]
  },
  {
   "cell_type": "code",
   "execution_count": 96,
   "id": "1764834c",
   "metadata": {},
   "outputs": [
    {
     "data": {
      "text/plain": [
       "Headlines      280\n",
       "Time           280\n",
       "Description    280\n",
       "dtype: int64"
      ]
     },
     "execution_count": 96,
     "metadata": {},
     "output_type": "execute_result"
    }
   ],
   "source": [
    "cnbc.isnull().sum()"
   ]
  },
  {
   "cell_type": "markdown",
   "id": "0e297971",
   "metadata": {},
   "source": [
    "`There are 280 missing values in headlines, description and time`"
   ]
  },
  {
   "cell_type": "code",
   "execution_count": 97,
   "id": "01f453d4",
   "metadata": {},
   "outputs": [],
   "source": [
    "cnbc.dropna(inplace=True)"
   ]
  },
  {
   "cell_type": "code",
   "execution_count": 98,
   "id": "4ae7a6b5",
   "metadata": {},
   "outputs": [
    {
     "data": {
      "text/plain": [
       "0"
      ]
     },
     "execution_count": 98,
     "metadata": {},
     "output_type": "execute_result"
    }
   ],
   "source": [
    "cnbc.duplicated().sum()"
   ]
  },
  {
   "cell_type": "code",
   "execution_count": 102,
   "id": "2d1d06c7",
   "metadata": {},
   "outputs": [],
   "source": [
    "cnbc.drop_duplicates( keep='first', inplace=True)"
   ]
  },
  {
   "cell_type": "code",
   "execution_count": 103,
   "id": "e003dd81",
   "metadata": {},
   "outputs": [
    {
     "data": {
      "text/plain": [
       "(2800, 3)"
      ]
     },
     "execution_count": 103,
     "metadata": {},
     "output_type": "execute_result"
    }
   ],
   "source": [
    "cnbc.shape"
   ]
  },
  {
   "cell_type": "markdown",
   "id": "82f0a45e",
   "metadata": {},
   "source": [
    "## Basic operations on Gaurdian headlines dataset"
   ]
  },
  {
   "cell_type": "code",
   "execution_count": 104,
   "id": "44ed09e0",
   "metadata": {},
   "outputs": [],
   "source": [
    "guardian = pd.read_csv('guardian_headlines.csv')"
   ]
  },
  {
   "cell_type": "code",
   "execution_count": 105,
   "id": "d8a6969b",
   "metadata": {},
   "outputs": [
    {
     "data": {
      "text/html": [
       "<div>\n",
       "<style scoped>\n",
       "    .dataframe tbody tr th:only-of-type {\n",
       "        vertical-align: middle;\n",
       "    }\n",
       "\n",
       "    .dataframe tbody tr th {\n",
       "        vertical-align: top;\n",
       "    }\n",
       "\n",
       "    .dataframe thead th {\n",
       "        text-align: right;\n",
       "    }\n",
       "</style>\n",
       "<table border=\"1\" class=\"dataframe\">\n",
       "  <thead>\n",
       "    <tr style=\"text-align: right;\">\n",
       "      <th></th>\n",
       "      <th>Time</th>\n",
       "      <th>Headlines</th>\n",
       "    </tr>\n",
       "  </thead>\n",
       "  <tbody>\n",
       "    <tr>\n",
       "      <th>0</th>\n",
       "      <td>18-Jul-20</td>\n",
       "      <td>Johnson is asking Santa for a Christmas recovery</td>\n",
       "    </tr>\n",
       "    <tr>\n",
       "      <th>1</th>\n",
       "      <td>18-Jul-20</td>\n",
       "      <td>‘I now fear the worst’: four grim tales of wor...</td>\n",
       "    </tr>\n",
       "    <tr>\n",
       "      <th>2</th>\n",
       "      <td>18-Jul-20</td>\n",
       "      <td>Five key areas Sunak must tackle to serve up e...</td>\n",
       "    </tr>\n",
       "    <tr>\n",
       "      <th>3</th>\n",
       "      <td>18-Jul-20</td>\n",
       "      <td>Covid-19 leaves firms ‘fatally ill-prepared’ f...</td>\n",
       "    </tr>\n",
       "    <tr>\n",
       "      <th>4</th>\n",
       "      <td>18-Jul-20</td>\n",
       "      <td>The Week in Patriarchy  \\n\\n\\n  Bacardi's 'lad...</td>\n",
       "    </tr>\n",
       "  </tbody>\n",
       "</table>\n",
       "</div>"
      ],
      "text/plain": [
       "        Time                                          Headlines\n",
       "0  18-Jul-20   Johnson is asking Santa for a Christmas recovery\n",
       "1  18-Jul-20  ‘I now fear the worst’: four grim tales of wor...\n",
       "2  18-Jul-20  Five key areas Sunak must tackle to serve up e...\n",
       "3  18-Jul-20  Covid-19 leaves firms ‘fatally ill-prepared’ f...\n",
       "4  18-Jul-20  The Week in Patriarchy  \\n\\n\\n  Bacardi's 'lad..."
      ]
     },
     "execution_count": 105,
     "metadata": {},
     "output_type": "execute_result"
    }
   ],
   "source": [
    "guardian.head()"
   ]
  },
  {
   "cell_type": "code",
   "execution_count": 106,
   "id": "cd223bf4",
   "metadata": {},
   "outputs": [
    {
     "data": {
      "text/plain": [
       "(17800, 2)"
      ]
     },
     "execution_count": 106,
     "metadata": {},
     "output_type": "execute_result"
    }
   ],
   "source": [
    "guardian.shape"
   ]
  },
  {
   "cell_type": "code",
   "execution_count": 107,
   "id": "ccafb19e",
   "metadata": {},
   "outputs": [
    {
     "data": {
      "text/plain": [
       "Index(['Time', 'Headlines'], dtype='object')"
      ]
     },
     "execution_count": 107,
     "metadata": {},
     "output_type": "execute_result"
    }
   ],
   "source": [
    "guardian.columns"
   ]
  },
  {
   "cell_type": "code",
   "execution_count": 108,
   "id": "cf5fd284",
   "metadata": {},
   "outputs": [
    {
     "name": "stdout",
     "output_type": "stream",
     "text": [
      "<class 'pandas.core.frame.DataFrame'>\n",
      "RangeIndex: 17800 entries, 0 to 17799\n",
      "Data columns (total 2 columns):\n",
      " #   Column     Non-Null Count  Dtype \n",
      "---  ------     --------------  ----- \n",
      " 0   Time       17800 non-null  object\n",
      " 1   Headlines  17800 non-null  object\n",
      "dtypes: object(2)\n",
      "memory usage: 278.2+ KB\n"
     ]
    }
   ],
   "source": [
    "guardian.info()"
   ]
  },
  {
   "cell_type": "code",
   "execution_count": 109,
   "id": "e3c19b6e",
   "metadata": {},
   "outputs": [
    {
     "data": {
      "text/plain": [
       "Time         0\n",
       "Headlines    0\n",
       "dtype: int64"
      ]
     },
     "execution_count": 109,
     "metadata": {},
     "output_type": "execute_result"
    }
   ],
   "source": [
    "guardian.isnull().sum()"
   ]
  },
  {
   "cell_type": "code",
   "execution_count": 110,
   "id": "ec2947d2",
   "metadata": {},
   "outputs": [],
   "source": [
    "guardian.drop_duplicates(keep='first', inplace=True)"
   ]
  },
  {
   "cell_type": "code",
   "execution_count": 111,
   "id": "d9ddf4c5",
   "metadata": {},
   "outputs": [
    {
     "data": {
      "text/plain": [
       "(17800, 2)"
      ]
     },
     "execution_count": 111,
     "metadata": {},
     "output_type": "execute_result"
    }
   ],
   "source": [
    "guardian.shape"
   ]
  },
  {
   "cell_type": "markdown",
   "id": "b7867b3a",
   "metadata": {},
   "source": [
    "# Basic operations on Reuters headlines"
   ]
  },
  {
   "cell_type": "code",
   "execution_count": 112,
   "id": "f01b8e40",
   "metadata": {},
   "outputs": [],
   "source": [
    "reuters = pd.read_csv('reuters_headlines.csv')"
   ]
  },
  {
   "cell_type": "code",
   "execution_count": 113,
   "id": "283ef55a",
   "metadata": {},
   "outputs": [
    {
     "data": {
      "text/html": [
       "<div>\n",
       "<style scoped>\n",
       "    .dataframe tbody tr th:only-of-type {\n",
       "        vertical-align: middle;\n",
       "    }\n",
       "\n",
       "    .dataframe tbody tr th {\n",
       "        vertical-align: top;\n",
       "    }\n",
       "\n",
       "    .dataframe thead th {\n",
       "        text-align: right;\n",
       "    }\n",
       "</style>\n",
       "<table border=\"1\" class=\"dataframe\">\n",
       "  <thead>\n",
       "    <tr style=\"text-align: right;\">\n",
       "      <th></th>\n",
       "      <th>Headlines</th>\n",
       "      <th>Time</th>\n",
       "      <th>Description</th>\n",
       "    </tr>\n",
       "  </thead>\n",
       "  <tbody>\n",
       "    <tr>\n",
       "      <th>0</th>\n",
       "      <td>TikTok considers London and other locations fo...</td>\n",
       "      <td>Jul 18 2020</td>\n",
       "      <td>TikTok has been in discussions with the UK gov...</td>\n",
       "    </tr>\n",
       "    <tr>\n",
       "      <th>1</th>\n",
       "      <td>Disney cuts ad spending on Facebook amid growi...</td>\n",
       "      <td>Jul 18 2020</td>\n",
       "      <td>Walt Disney  has become the latest company to ...</td>\n",
       "    </tr>\n",
       "    <tr>\n",
       "      <th>2</th>\n",
       "      <td>Trail of missing Wirecard executive leads to B...</td>\n",
       "      <td>Jul 18 2020</td>\n",
       "      <td>Former Wirecard  chief operating officer Jan M...</td>\n",
       "    </tr>\n",
       "    <tr>\n",
       "      <th>3</th>\n",
       "      <td>Twitter says attackers downloaded data from up...</td>\n",
       "      <td>Jul 18 2020</td>\n",
       "      <td>Twitter Inc said on Saturday that hackers were...</td>\n",
       "    </tr>\n",
       "    <tr>\n",
       "      <th>4</th>\n",
       "      <td>U.S. Republicans seek liability protections as...</td>\n",
       "      <td>Jul 17 2020</td>\n",
       "      <td>A battle in the U.S. Congress over a new coron...</td>\n",
       "    </tr>\n",
       "  </tbody>\n",
       "</table>\n",
       "</div>"
      ],
      "text/plain": [
       "                                           Headlines         Time  \\\n",
       "0  TikTok considers London and other locations fo...  Jul 18 2020   \n",
       "1  Disney cuts ad spending on Facebook amid growi...  Jul 18 2020   \n",
       "2  Trail of missing Wirecard executive leads to B...  Jul 18 2020   \n",
       "3  Twitter says attackers downloaded data from up...  Jul 18 2020   \n",
       "4  U.S. Republicans seek liability protections as...  Jul 17 2020   \n",
       "\n",
       "                                         Description  \n",
       "0  TikTok has been in discussions with the UK gov...  \n",
       "1  Walt Disney  has become the latest company to ...  \n",
       "2  Former Wirecard  chief operating officer Jan M...  \n",
       "3  Twitter Inc said on Saturday that hackers were...  \n",
       "4  A battle in the U.S. Congress over a new coron...  "
      ]
     },
     "execution_count": 113,
     "metadata": {},
     "output_type": "execute_result"
    }
   ],
   "source": [
    "reuters.head()"
   ]
  },
  {
   "cell_type": "code",
   "execution_count": 114,
   "id": "83079e6e",
   "metadata": {},
   "outputs": [
    {
     "data": {
      "text/plain": [
       "(32770, 3)"
      ]
     },
     "execution_count": 114,
     "metadata": {},
     "output_type": "execute_result"
    }
   ],
   "source": [
    "reuters.shape"
   ]
  },
  {
   "cell_type": "code",
   "execution_count": 115,
   "id": "227aea48",
   "metadata": {},
   "outputs": [
    {
     "data": {
      "text/plain": [
       "Index(['Headlines', 'Time', 'Description'], dtype='object')"
      ]
     },
     "execution_count": 115,
     "metadata": {},
     "output_type": "execute_result"
    }
   ],
   "source": [
    "reuters.columns"
   ]
  },
  {
   "cell_type": "code",
   "execution_count": 116,
   "id": "68b7de75",
   "metadata": {},
   "outputs": [
    {
     "name": "stdout",
     "output_type": "stream",
     "text": [
      "<class 'pandas.core.frame.DataFrame'>\n",
      "RangeIndex: 32770 entries, 0 to 32769\n",
      "Data columns (total 3 columns):\n",
      " #   Column       Non-Null Count  Dtype \n",
      "---  ------       --------------  ----- \n",
      " 0   Headlines    32770 non-null  object\n",
      " 1   Time         32770 non-null  object\n",
      " 2   Description  32770 non-null  object\n",
      "dtypes: object(3)\n",
      "memory usage: 768.2+ KB\n"
     ]
    }
   ],
   "source": [
    "reuters.info()"
   ]
  },
  {
   "cell_type": "code",
   "execution_count": 117,
   "id": "5bd7062d",
   "metadata": {},
   "outputs": [
    {
     "data": {
      "text/plain": [
       "Headlines      0\n",
       "Time           0\n",
       "Description    0\n",
       "dtype: int64"
      ]
     },
     "execution_count": 117,
     "metadata": {},
     "output_type": "execute_result"
    }
   ],
   "source": [
    "reuters.isnull().sum()"
   ]
  },
  {
   "cell_type": "code",
   "execution_count": 118,
   "id": "ea369160",
   "metadata": {},
   "outputs": [],
   "source": [
    "reuters.drop_duplicates(keep='first', inplace=True)"
   ]
  },
  {
   "cell_type": "code",
   "execution_count": 119,
   "id": "d3d6dd6d",
   "metadata": {},
   "outputs": [
    {
     "data": {
      "text/plain": [
       "(32715, 3)"
      ]
     },
     "execution_count": 119,
     "metadata": {},
     "output_type": "execute_result"
    }
   ],
   "source": [
    "reuters.shape"
   ]
  },
  {
   "cell_type": "markdown",
   "id": "1ed16f72",
   "metadata": {},
   "source": [
    "### Preprocessing\n",
    "\n",
    "- Lowercase\n",
    "\n",
    "- Removing punctuations\n",
    "\n",
    "- Removing stopwords\n",
    "\n",
    "- Stemming\n",
    "\n",
    "- Lemmatizing"
   ]
  },
  {
   "cell_type": "code",
   "execution_count": 120,
   "id": "b07068ba",
   "metadata": {},
   "outputs": [],
   "source": [
    "def preprocessing_text(data):\n",
    "\n",
    "    #lowercase\n",
    "    data = data.lower()\n",
    "\n",
    "\n",
    "    #Removing puntuations\n",
    "    data = re.sub(r'[^\\w\\s]','', data, flags=re.MULTILINE)\n",
    "\n",
    "\n",
    "    #Removing stopwords\n",
    "    tokens = word_tokenize(data)\n",
    "    word_tokens = [w for w in tokens if w not in stopwords]\n",
    "  \n",
    "\n",
    "    #Stemming\n",
    "    stemmer = PorterStemmer()\n",
    "    stem_words = [stemmer.stem(w) for w in word_tokens]\n",
    "    \n",
    "\n",
    "    #Lemmatizing\n",
    "    lemmer = WordNetLemmatizer()\n",
    "    lem_words = [lemmer.lemmatize(w) for w in stem_words]\n",
    " \n",
    "    return \" \".join(lem_words)"
   ]
  },
  {
   "cell_type": "markdown",
   "id": "a109a214",
   "metadata": {},
   "source": [
    "### SENTIMENT ANAYSIS\n",
    "\n",
    "`Our dataset doesn't have a target attribute. `\n",
    "\n",
    "`So to add a target attribute to the dataset, we will use SentimentIntensityAnalyzer from NLTK library which assigns polarity intensity scores for given string based on lexical meaning of the text.`"
   ]
  },
  {
   "cell_type": "code",
   "execution_count": 121,
   "id": "b9da7b51",
   "metadata": {},
   "outputs": [
    {
     "name": "stderr",
     "output_type": "stream",
     "text": [
      "[nltk_data] Downloading package vader_lexicon to\n",
      "[nltk_data]     C:\\Users\\kiran\\AppData\\Roaming\\nltk_data...\n",
      "[nltk_data]   Package vader_lexicon is already up-to-date!\n"
     ]
    }
   ],
   "source": [
    "nltk.download('vader_lexicon')\n",
    "from nltk.sentiment.vader import SentimentIntensityAnalyzer\n",
    "\n",
    "\n",
    "SIA = SentimentIntensityAnalyzer()"
   ]
  },
  {
   "cell_type": "code",
   "execution_count": 122,
   "id": "9673d8ef",
   "metadata": {},
   "outputs": [],
   "source": [
    "# fuction to decide sentiment as positive, negative and neutral\n",
    "\n",
    "def mapper(data):\n",
    "    if data > 0:\n",
    "        return \"Positive\"\n",
    "    elif data < 0:\n",
    "        return \"Negative\"\n",
    "    else:\n",
    "        return \"Neutral\"\n",
    "\n",
    "def sentiment_analysis(df, colm_name):\n",
    "    \n",
    "    # assigning polarity scores for description column\n",
    "    df['polarity_scores'] = df[colm_name].apply(lambda w: SIA.polarity_scores(w))\n",
    "    \n",
    "    # picking only compound score(combined score)\n",
    "    df['compound_score'] = df['polarity_scores'].apply(lambda x: x['compound'])\n",
    "    \n",
    "    # mapping the compound score to positive, negative or neutral\n",
    "    df['ds_score'] = df['compound_score'].apply(mapper)\n",
    "    \n",
    "    df.drop(['polarity_scores', 'compound_score'], axis=1, inplace=True)\n",
    "    \n",
    "    return df\n"
   ]
  },
  {
   "cell_type": "markdown",
   "id": "5a7164da",
   "metadata": {},
   "source": [
    "## Working with description of datasets"
   ]
  },
  {
   "cell_type": "code",
   "execution_count": 123,
   "id": "5f0473f6",
   "metadata": {},
   "outputs": [],
   "source": [
    "# concatenating cnbc headlines dataset and reuters headlines dataset (as only those two dataset have description)\n",
    "\n",
    "cnbc_reuters = pd.concat([cnbc, reuters], axis=0)"
   ]
  },
  {
   "cell_type": "code",
   "execution_count": 124,
   "id": "dc6251d2",
   "metadata": {},
   "outputs": [
    {
     "data": {
      "text/plain": [
       "(35515, 3)"
      ]
     },
     "execution_count": 124,
     "metadata": {},
     "output_type": "execute_result"
    }
   ],
   "source": [
    "cnbc_reuters.shape"
   ]
  },
  {
   "cell_type": "code",
   "execution_count": 125,
   "id": "09223866",
   "metadata": {},
   "outputs": [],
   "source": [
    "cnbc_reu = cnbc_reuters.copy()"
   ]
  },
  {
   "cell_type": "code",
   "execution_count": 126,
   "id": "dc9707b6",
   "metadata": {
    "scrolled": true
   },
   "outputs": [
    {
     "data": {
      "text/html": [
       "<div>\n",
       "<style scoped>\n",
       "    .dataframe tbody tr th:only-of-type {\n",
       "        vertical-align: middle;\n",
       "    }\n",
       "\n",
       "    .dataframe tbody tr th {\n",
       "        vertical-align: top;\n",
       "    }\n",
       "\n",
       "    .dataframe thead th {\n",
       "        text-align: right;\n",
       "    }\n",
       "</style>\n",
       "<table border=\"1\" class=\"dataframe\">\n",
       "  <thead>\n",
       "    <tr style=\"text-align: right;\">\n",
       "      <th></th>\n",
       "      <th>Headlines</th>\n",
       "      <th>Time</th>\n",
       "      <th>Description</th>\n",
       "    </tr>\n",
       "  </thead>\n",
       "  <tbody>\n",
       "    <tr>\n",
       "      <th>0</th>\n",
       "      <td>Jim Cramer: A better way to invest in the Covi...</td>\n",
       "      <td>7:51  PM ET Fri, 17 July 2020</td>\n",
       "      <td>mad money host jim cramer recommend buy four c...</td>\n",
       "    </tr>\n",
       "    <tr>\n",
       "      <th>1</th>\n",
       "      <td>Cramer's lightning round: I would own Teradyne</td>\n",
       "      <td>7:33  PM ET Fri, 17 July 2020</td>\n",
       "      <td>mad money host jim cramer ring lightn round be...</td>\n",
       "    </tr>\n",
       "    <tr>\n",
       "      <th>3</th>\n",
       "      <td>Cramer's week ahead: Big week for earnings, ev...</td>\n",
       "      <td>7:25  PM ET Fri, 17 July 2020</td>\n",
       "      <td>well pay earn noncovid compani lancet publish ...</td>\n",
       "    </tr>\n",
       "    <tr>\n",
       "      <th>4</th>\n",
       "      <td>IQ Capital CEO Keith Bliss says tech and healt...</td>\n",
       "      <td>4:24  PM ET Fri, 17 July 2020</td>\n",
       "      <td>keith bliss iq capit ceo join close bell talk ...</td>\n",
       "    </tr>\n",
       "    <tr>\n",
       "      <th>5</th>\n",
       "      <td>Wall Street delivered the 'kind of pullback I'...</td>\n",
       "      <td>7:36  PM ET Thu, 16 July 2020</td>\n",
       "      <td>look stock highqual compani go lower even thou...</td>\n",
       "    </tr>\n",
       "  </tbody>\n",
       "</table>\n",
       "</div>"
      ],
      "text/plain": [
       "                                           Headlines  \\\n",
       "0  Jim Cramer: A better way to invest in the Covi...   \n",
       "1     Cramer's lightning round: I would own Teradyne   \n",
       "3  Cramer's week ahead: Big week for earnings, ev...   \n",
       "4  IQ Capital CEO Keith Bliss says tech and healt...   \n",
       "5  Wall Street delivered the 'kind of pullback I'...   \n",
       "\n",
       "                             Time  \\\n",
       "0   7:51  PM ET Fri, 17 July 2020   \n",
       "1   7:33  PM ET Fri, 17 July 2020   \n",
       "3   7:25  PM ET Fri, 17 July 2020   \n",
       "4   4:24  PM ET Fri, 17 July 2020   \n",
       "5   7:36  PM ET Thu, 16 July 2020   \n",
       "\n",
       "                                         Description  \n",
       "0  mad money host jim cramer recommend buy four c...  \n",
       "1  mad money host jim cramer ring lightn round be...  \n",
       "3  well pay earn noncovid compani lancet publish ...  \n",
       "4  keith bliss iq capit ceo join close bell talk ...  \n",
       "5  look stock highqual compani go lower even thou...  "
      ]
     },
     "execution_count": 126,
     "metadata": {},
     "output_type": "execute_result"
    }
   ],
   "source": [
    "cnbc_reu['Description'] = cnbc_reu['Description'].apply(preprocessing_text)\n",
    "cnbc_reu.head()"
   ]
  },
  {
   "cell_type": "code",
   "execution_count": 127,
   "id": "42cdc4cd",
   "metadata": {
    "scrolled": true
   },
   "outputs": [
    {
     "data": {
      "text/html": [
       "<div>\n",
       "<style scoped>\n",
       "    .dataframe tbody tr th:only-of-type {\n",
       "        vertical-align: middle;\n",
       "    }\n",
       "\n",
       "    .dataframe tbody tr th {\n",
       "        vertical-align: top;\n",
       "    }\n",
       "\n",
       "    .dataframe thead th {\n",
       "        text-align: right;\n",
       "    }\n",
       "</style>\n",
       "<table border=\"1\" class=\"dataframe\">\n",
       "  <thead>\n",
       "    <tr style=\"text-align: right;\">\n",
       "      <th></th>\n",
       "      <th>Headlines</th>\n",
       "      <th>Time</th>\n",
       "      <th>Description</th>\n",
       "      <th>ds_score</th>\n",
       "    </tr>\n",
       "  </thead>\n",
       "  <tbody>\n",
       "    <tr>\n",
       "      <th>0</th>\n",
       "      <td>Jim Cramer: A better way to invest in the Covi...</td>\n",
       "      <td>7:51  PM ET Fri, 17 July 2020</td>\n",
       "      <td>mad money host jim cramer recommend buy four c...</td>\n",
       "      <td>Positive</td>\n",
       "    </tr>\n",
       "    <tr>\n",
       "      <th>1</th>\n",
       "      <td>Cramer's lightning round: I would own Teradyne</td>\n",
       "      <td>7:33  PM ET Fri, 17 July 2020</td>\n",
       "      <td>mad money host jim cramer ring lightn round be...</td>\n",
       "      <td>Negative</td>\n",
       "    </tr>\n",
       "    <tr>\n",
       "      <th>3</th>\n",
       "      <td>Cramer's week ahead: Big week for earnings, ev...</td>\n",
       "      <td>7:25  PM ET Fri, 17 July 2020</td>\n",
       "      <td>well pay earn noncovid compani lancet publish ...</td>\n",
       "      <td>Positive</td>\n",
       "    </tr>\n",
       "    <tr>\n",
       "      <th>4</th>\n",
       "      <td>IQ Capital CEO Keith Bliss says tech and healt...</td>\n",
       "      <td>4:24  PM ET Fri, 17 July 2020</td>\n",
       "      <td>keith bliss iq capit ceo join close bell talk ...</td>\n",
       "      <td>Positive</td>\n",
       "    </tr>\n",
       "    <tr>\n",
       "      <th>5</th>\n",
       "      <td>Wall Street delivered the 'kind of pullback I'...</td>\n",
       "      <td>7:36  PM ET Thu, 16 July 2020</td>\n",
       "      <td>look stock highqual compani go lower even thou...</td>\n",
       "      <td>Negative</td>\n",
       "    </tr>\n",
       "  </tbody>\n",
       "</table>\n",
       "</div>"
      ],
      "text/plain": [
       "                                           Headlines  \\\n",
       "0  Jim Cramer: A better way to invest in the Covi...   \n",
       "1     Cramer's lightning round: I would own Teradyne   \n",
       "3  Cramer's week ahead: Big week for earnings, ev...   \n",
       "4  IQ Capital CEO Keith Bliss says tech and healt...   \n",
       "5  Wall Street delivered the 'kind of pullback I'...   \n",
       "\n",
       "                             Time  \\\n",
       "0   7:51  PM ET Fri, 17 July 2020   \n",
       "1   7:33  PM ET Fri, 17 July 2020   \n",
       "3   7:25  PM ET Fri, 17 July 2020   \n",
       "4   4:24  PM ET Fri, 17 July 2020   \n",
       "5   7:36  PM ET Thu, 16 July 2020   \n",
       "\n",
       "                                         Description  ds_score  \n",
       "0  mad money host jim cramer recommend buy four c...  Positive  \n",
       "1  mad money host jim cramer ring lightn round be...  Negative  \n",
       "3  well pay earn noncovid compani lancet publish ...  Positive  \n",
       "4  keith bliss iq capit ceo join close bell talk ...  Positive  \n",
       "5  look stock highqual compani go lower even thou...  Negative  "
      ]
     },
     "execution_count": 127,
     "metadata": {},
     "output_type": "execute_result"
    }
   ],
   "source": [
    "df = sentiment_analysis(cnbc_reu, 'Description')\n",
    "df.head()"
   ]
  },
  {
   "cell_type": "markdown",
   "id": "e08cccc7",
   "metadata": {},
   "source": [
    "### In the above dataframe, we have added the target attribute with 3 classes (Positive, Negative, Neutral)"
   ]
  },
  {
   "cell_type": "code",
   "execution_count": 128,
   "id": "c486838d",
   "metadata": {},
   "outputs": [
    {
     "data": {
      "text/plain": [
       "Positive    15067\n",
       "Negative    12279\n",
       "Neutral      8169\n",
       "Name: ds_score, dtype: int64"
      ]
     },
     "execution_count": 128,
     "metadata": {},
     "output_type": "execute_result"
    }
   ],
   "source": [
    "df['ds_score'].value_counts()"
   ]
  },
  {
   "cell_type": "code",
   "execution_count": 129,
   "id": "8a014b6a",
   "metadata": {},
   "outputs": [
    {
     "data": {
      "image/png": "[encoded data removed]",
      "text/plain": [
       "<Figure size 432x288 with 1 Axes>"
      ]
     },
     "metadata": {
      "needs_background": "light"
     },
     "output_type": "display_data"
    }
   ],
   "source": [
    "sns.countplot(x='ds_score', data=df);"
   ]
  },
  {
   "cell_type": "markdown",
   "id": "52dcf1d6",
   "metadata": {},
   "source": [
    "#### Based on the description of dataset\n",
    "\n",
    "there are, \n",
    "\n",
    "`15067 positive statments`\n",
    "\n",
    "`12279 negative statments`\n",
    "\n",
    "`8169 neutral statments`"
   ]
  },
  {
   "cell_type": "code",
   "execution_count": 130,
   "id": "a2c46c88",
   "metadata": {},
   "outputs": [
    {
     "data": {
      "image/png": "[encoded data removed]",
      "text/plain": [
       "<Figure size 432x288 with 1 Axes>"
      ]
     },
     "metadata": {},
     "output_type": "display_data"
    }
   ],
   "source": [
    "# pie chart \n",
    "plt.pie([15000, 12000, 8000], explode=[0.1,0.1,0.1], labels=['Positive','Negative','Neutral'], autopct='%.1f', startangle=90)\n",
    "plt.show()"
   ]
  },
  {
   "cell_type": "markdown",
   "id": "5d12d7ad",
   "metadata": {},
   "source": [
    "#### Above plot gives a clear distribution of three class types of target attribute.\n",
    "\n",
    "`42.9% positive statments`\n",
    "\n",
    "`34.3% negtive statements`\n",
    "\n",
    "`22.9% neutral statments`"
   ]
  },
  {
   "cell_type": "markdown",
   "id": "58f6dbb8",
   "metadata": {},
   "source": [
    "# Modelling on description based dataset"
   ]
  },
  {
   "cell_type": "code",
   "execution_count": 131,
   "id": "50712603",
   "metadata": {},
   "outputs": [
    {
     "name": "stdout",
     "output_type": "stream",
     "text": [
      "(31963,) (3552,) (31963,) (3552,)\n"
     ]
    }
   ],
   "source": [
    "from sklearn.model_selection import train_test_split\n",
    "\n",
    "X = df['Description']\n",
    "y = df.ds_score\n",
    "\n",
    "X_train, X_test, y_train, y_test = train_test_split(X, y, test_size=0.1, random_state=212)\n",
    "print(X_train.shape, X_test.shape, y_train.shape, y_test.shape)"
   ]
  },
  {
   "cell_type": "markdown",
   "id": "2080bdbf",
   "metadata": {},
   "source": [
    "# ML Classification algorithms -> Comparing their Performances"
   ]
  },
  {
   "cell_type": "markdown",
   "id": "d77a47c1",
   "metadata": {},
   "source": [
    "### LINEAR SUPPORT VECTOR MACHINE"
   ]
  },
  {
   "cell_type": "code",
   "execution_count": 132,
   "id": "b6e793c1",
   "metadata": {},
   "outputs": [
    {
     "name": "stdout",
     "output_type": "stream",
     "text": [
      "MODEL: LINEAR SVC\n",
      "accuarcy score:  0.932713963963964\n",
      "[[1123   45   71]\n",
      " [  22  762   20]\n",
      " [  50   31 1428]]\n",
      "              precision    recall  f1-score   support\n",
      "\n",
      "    Negative       0.94      0.91      0.92      1239\n",
      "     Neutral       0.91      0.95      0.93       804\n",
      "    Positive       0.94      0.95      0.94      1509\n",
      "\n",
      "    accuracy                           0.93      3552\n",
      "   macro avg       0.93      0.93      0.93      3552\n",
      "weighted avg       0.93      0.93      0.93      3552\n",
      "\n"
     ]
    }
   ],
   "source": [
    "from sklearn.feature_extraction.text import TfidfVectorizer\n",
    "from sklearn.svm import LinearSVC\n",
    "from sklearn.pipeline import Pipeline\n",
    "from sklearn.metrics import accuracy_score, precision_score, recall_score, confusion_matrix, classification_report,f1_score\n",
    "\n",
    "\n",
    "# Fit the pipeline to the data\n",
    "lin_svc_ds = Pipeline([('tfidf', TfidfVectorizer()),\n",
    "                      ('lin_svc', LinearSVC())])\n",
    "\n",
    "lin_svc_ds.fit(X_train, y_train)\n",
    "\n",
    "# predict on test dataset\n",
    "pred = lin_svc_ds.predict(X_test)\n",
    "\n",
    "print(\"MODEL: LINEAR SVC\")\n",
    "\n",
    "# print accuracy score\n",
    "print(\"accuarcy score: \", accuracy_score(y_test, pred))\n",
    "\n",
    "#print confusion matrix\n",
    "print(confusion_matrix(y_test, pred))\n",
    "\n",
    "#print classification report\n",
    "print(classification_report(y_test, pred))"
   ]
  },
  {
   "cell_type": "markdown",
   "id": "6150fb50",
   "metadata": {},
   "source": [
    "### LOGISTIC REGRESSION"
   ]
  },
  {
   "cell_type": "code",
   "execution_count": 133,
   "id": "f8684c5e",
   "metadata": {},
   "outputs": [
    {
     "name": "stdout",
     "output_type": "stream",
     "text": [
      "MODEL: LOGISTIC REGRESSION\n",
      "accuarcy score:  0.893581081081081\n",
      "[[1054   78  107]\n",
      " [  39  728   37]\n",
      " [  69   48 1392]]\n",
      "              precision    recall  f1-score   support\n",
      "\n",
      "    Negative       0.91      0.85      0.88      1239\n",
      "     Neutral       0.85      0.91      0.88       804\n",
      "    Positive       0.91      0.92      0.91      1509\n",
      "\n",
      "    accuracy                           0.89      3552\n",
      "   macro avg       0.89      0.89      0.89      3552\n",
      "weighted avg       0.89      0.89      0.89      3552\n",
      "\n"
     ]
    }
   ],
   "source": [
    "from sklearn.feature_extraction.text import CountVectorizer, TfidfTransformer\n",
    "from sklearn.linear_model import LogisticRegression\n",
    "\n",
    "\n",
    "# Fit the pipeline to the data\n",
    "log_reg_ds = Pipeline([('count_vec', CountVectorizer()),\n",
    "                      ('tfidf', TfidfTransformer()),\n",
    "                      ('log_reg', LogisticRegression())])\n",
    "\n",
    "log_reg_ds.fit(X_train, y_train)\n",
    "\n",
    "# predict on test dataset\n",
    "pred = log_reg_ds.predict(X_test)\n",
    "\n",
    "print(\"MODEL: LOGISTIC REGRESSION\")\n",
    "\n",
    "# print accuracy score\n",
    "print(\"accuarcy score: \", accuracy_score(y_test, pred))\n",
    "\n",
    "#print confusion matrix\n",
    "print(confusion_matrix(y_test, pred))\n",
    "\n",
    "#print classification report\n",
    "print(classification_report(y_test, pred))"
   ]
  },
  {
   "cell_type": "markdown",
   "id": "2db5995b",
   "metadata": {},
   "source": [
    "### MULTINOMIAL NAIVE BAYES"
   ]
  },
  {
   "cell_type": "code",
   "execution_count": 134,
   "id": "3bbf7a8e",
   "metadata": {},
   "outputs": [
    {
     "name": "stdout",
     "output_type": "stream",
     "text": [
      "MODEL: Multinomial NB\n",
      "accuarcy score:  0.6396396396396397\n",
      "[[ 808    8  423]\n",
      " [ 150   86  568]\n",
      " [ 128    3 1378]]\n",
      "              precision    recall  f1-score   support\n",
      "\n",
      "    Negative       0.74      0.65      0.70      1239\n",
      "     Neutral       0.89      0.11      0.19       804\n",
      "    Positive       0.58      0.91      0.71      1509\n",
      "\n",
      "    accuracy                           0.64      3552\n",
      "   macro avg       0.74      0.56      0.53      3552\n",
      "weighted avg       0.71      0.64      0.59      3552\n",
      "\n"
     ]
    }
   ],
   "source": [
    "from sklearn.naive_bayes import MultinomialNB\n",
    "\n",
    "\n",
    "# Fit the pipeline to the data\n",
    "multi_nb_ds = Pipeline([('count_vec', CountVectorizer()),\n",
    "                      ('tfidf', TfidfTransformer()),\n",
    "                      ('multi_nb', MultinomialNB())])\n",
    "\n",
    "multi_nb_ds.fit(X_train, y_train)\n",
    "\n",
    "# predict on test dataset\n",
    "pred = multi_nb_ds.predict(X_test)\n",
    "\n",
    "print(\"MODEL: Multinomial NB\")\n",
    "\n",
    "# print accuracy score\n",
    "print(\"accuarcy score: \", accuracy_score(y_test, pred))\n",
    "\n",
    "#print confusion matrix\n",
    "print(confusion_matrix(y_test, pred))\n",
    "\n",
    "#print classification report\n",
    "print(classification_report(y_test, pred))"
   ]
  },
  {
   "cell_type": "markdown",
   "id": "99937797",
   "metadata": {},
   "source": [
    "### BERNOULLI NAIVE BAYES"
   ]
  },
  {
   "cell_type": "code",
   "execution_count": 135,
   "id": "ff9f371b",
   "metadata": {},
   "outputs": [
    {
     "name": "stdout",
     "output_type": "stream",
     "text": [
      "MODEL: Bernoulli's NB\n",
      "accuarcy score:  0.7395833333333334\n",
      "[[ 919   56  264]\n",
      " [ 135  480  189]\n",
      " [ 210   71 1228]]\n",
      "              precision    recall  f1-score   support\n",
      "\n",
      "    Negative       0.73      0.74      0.73      1239\n",
      "     Neutral       0.79      0.60      0.68       804\n",
      "    Positive       0.73      0.81      0.77      1509\n",
      "\n",
      "    accuracy                           0.74      3552\n",
      "   macro avg       0.75      0.72      0.73      3552\n",
      "weighted avg       0.74      0.74      0.74      3552\n",
      "\n"
     ]
    }
   ],
   "source": [
    "from sklearn.naive_bayes import BernoulliNB\n",
    "\n",
    "\n",
    "# Fit the pipeline to the data\n",
    "bern_nb_ds = Pipeline([('count_vec', CountVectorizer()),\n",
    "                      ('tfidf', TfidfTransformer()),\n",
    "                      ('bern_nb', BernoulliNB())])\n",
    "\n",
    "bern_nb_ds.fit(X_train, y_train)\n",
    "\n",
    "# predict on test dataset\n",
    "pred = bern_nb_ds.predict(X_test)\n",
    "\n",
    "print(\"MODEL: Bernoulli's NB\")\n",
    "\n",
    "# print accuracy score\n",
    "print(\"accuarcy score: \", accuracy_score(y_test, pred))\n",
    "\n",
    "#print confusion matrix\n",
    "print(confusion_matrix(y_test, pred))\n",
    "\n",
    "#print classification report\n",
    "print(classification_report(y_test, pred))"
   ]
  },
  {
   "cell_type": "markdown",
   "id": "aa65812f",
   "metadata": {},
   "source": [
    "### GRADIENT BOOSTING CLASSIFICATION MODEL"
   ]
  },
  {
   "cell_type": "code",
   "execution_count": 136,
   "id": "694ca05d",
   "metadata": {},
   "outputs": [
    {
     "name": "stdout",
     "output_type": "stream",
     "text": [
      "MODEL: Gradient Boosting\n",
      "accuarcy score:  0.8386824324324325\n",
      "[[ 902  168  169]\n",
      " [  11  784    9]\n",
      " [  69  147 1293]]\n",
      "              precision    recall  f1-score   support\n",
      "\n",
      "    Negative       0.92      0.73      0.81      1239\n",
      "     Neutral       0.71      0.98      0.82       804\n",
      "    Positive       0.88      0.86      0.87      1509\n",
      "\n",
      "    accuracy                           0.84      3552\n",
      "   macro avg       0.84      0.85      0.83      3552\n",
      "weighted avg       0.86      0.84      0.84      3552\n",
      "\n"
     ]
    }
   ],
   "source": [
    "from sklearn.ensemble import GradientBoostingClassifier\n",
    "\n",
    "\n",
    "# Fit the pipeline to the data\n",
    "grad_boost_ds = Pipeline([('count_vec', CountVectorizer()),\n",
    "                      ('tfidf', TfidfTransformer()),\n",
    "                      ('grad_boost', GradientBoostingClassifier())])\n",
    "\n",
    "grad_boost_ds.fit(X_train, y_train)\n",
    "\n",
    "# predict on test dataset\n",
    "pred = grad_boost_ds.predict(X_test)\n",
    "\n",
    "print(\"MODEL: Gradient Boosting\")\n",
    "\n",
    "# print accuracy score\n",
    "print(\"accuarcy score: \", accuracy_score(y_test, pred))\n",
    "\n",
    "#print confusion matrix\n",
    "print(confusion_matrix(y_test, pred))\n",
    "\n",
    "#print classification report\n",
    "print(classification_report(y_test, pred))"
   ]
  },
  {
   "cell_type": "markdown",
   "id": "e97e587d",
   "metadata": {},
   "source": [
    "### XGBOOST CLASSIFICATION MODEL"
   ]
  },
  {
   "cell_type": "code",
   "execution_count": 137,
   "id": "ff122973",
   "metadata": {},
   "outputs": [
    {
     "name": "stdout",
     "output_type": "stream",
     "text": [
      "MODEL: XG Boost\n",
      "accuarcy score:  0.8856981981981982\n",
      "[[ 996  128  115]\n",
      " [  12  785    7]\n",
      " [  53   91 1365]]\n",
      "              precision    recall  f1-score   support\n",
      "\n",
      "           0       0.94      0.80      0.87      1239\n",
      "           1       0.78      0.98      0.87       804\n",
      "           2       0.92      0.90      0.91      1509\n",
      "\n",
      "    accuracy                           0.89      3552\n",
      "   macro avg       0.88      0.89      0.88      3552\n",
      "weighted avg       0.89      0.89      0.89      3552\n",
      "\n"
     ]
    }
   ],
   "source": [
    "from xgboost import XGBClassifier\n",
    "from sklearn.preprocessing import LabelEncoder\n",
    "\n",
    "\n",
    "# Fit the pipeline to the data\n",
    "xg_boost_ds = Pipeline([('count_vec', CountVectorizer()),\n",
    "                      ('tfidf', TfidfTransformer()),\n",
    "                      ('xgb', XGBClassifier())])\n",
    "\n",
    "encoder = LabelEncoder()\n",
    "enc_train = encoder.fit_transform(y_train)\n",
    "enc_test = encoder.fit_transform(y_test)\n",
    "\n",
    "xg_boost_ds.fit(X_train, enc_train)\n",
    "\n",
    "# predict on test dataset\n",
    "pred = xg_boost_ds.predict(X_test)\n",
    "\n",
    "print(\"MODEL: XG Boost\")\n",
    "\n",
    "# print accuracy score\n",
    "print(\"accuarcy score: \", accuracy_score(enc_test, pred))\n",
    "\n",
    "#print confusion matrix\n",
    "print(confusion_matrix(enc_test, pred))\n",
    "\n",
    "#print classification report\n",
    "print(classification_report(enc_test, pred))"
   ]
  },
  {
   "cell_type": "markdown",
   "id": "bb6f2858",
   "metadata": {},
   "source": [
    "### Comparing Metrics for above models (performance measurement)"
   ]
  },
  {
   "cell_type": "code",
   "execution_count": 140,
   "id": "92491437",
   "metadata": {},
   "outputs": [],
   "source": [
    "def metrics_comparison(model_objects, model_names, X_test, y_test, enc_test):\n",
    "    \n",
    "    metrics_df = pd.DataFrame(columns=['model_names','accuracy','precision','recall','f1_score'])\n",
    "    metrics_df['model_names'] = model_names\n",
    "   \n",
    "    metrics_df['accuracy'] = [accuracy_score(y_test, model.predict(X_test)) if model != xg_boost_ds else accuracy_score(enc_test, model.predict(X_test)) for model in model_objects]\n",
    "    metrics_df['precision'] = [precision_score(y_test, model.predict(X_test),average='weighted') if model != xg_boost_ds else precision_score(enc_test, model.predict(X_test), average='weighted') for model in model_objects]\n",
    "    metrics_df['recall'] = [recall_score(y_test, model.predict(X_test),average='weighted') if model != xg_boost_ds else recall_score(enc_test, model.predict(X_test),average='weighted') for model in model_objects]\n",
    "    metrics_df['f1_score'] = [f1_score(y_test, model.predict(X_test),average='weighted') if model != xg_boost_ds else f1_score(enc_test, model.predict(X_test), average='weighted') for model in model_objects]\n",
    "    \n",
    "    return metrics_df"
   ]
  },
  {
   "cell_type": "code",
   "execution_count": 139,
   "id": "014044c0",
   "metadata": {},
   "outputs": [
    {
     "data": {
      "text/html": [
       "<div>\n",
       "<style scoped>\n",
       "    .dataframe tbody tr th:only-of-type {\n",
       "        vertical-align: middle;\n",
       "    }\n",
       "\n",
       "    .dataframe tbody tr th {\n",
       "        vertical-align: top;\n",
       "    }\n",
       "\n",
       "    .dataframe thead th {\n",
       "        text-align: right;\n",
       "    }\n",
       "</style>\n",
       "<table border=\"1\" class=\"dataframe\">\n",
       "  <thead>\n",
       "    <tr style=\"text-align: right;\">\n",
       "      <th></th>\n",
       "      <th>model_names</th>\n",
       "      <th>accuracy</th>\n",
       "      <th>precision</th>\n",
       "      <th>recall</th>\n",
       "      <th>f1_score</th>\n",
       "    </tr>\n",
       "  </thead>\n",
       "  <tbody>\n",
       "    <tr>\n",
       "      <th>0</th>\n",
       "      <td>LinearSVC</td>\n",
       "      <td>0.932714</td>\n",
       "      <td>0.933004</td>\n",
       "      <td>0.932714</td>\n",
       "      <td>0.932659</td>\n",
       "    </tr>\n",
       "    <tr>\n",
       "      <th>1</th>\n",
       "      <td>LogRegression</td>\n",
       "      <td>0.893581</td>\n",
       "      <td>0.894356</td>\n",
       "      <td>0.893581</td>\n",
       "      <td>0.893442</td>\n",
       "    </tr>\n",
       "    <tr>\n",
       "      <th>2</th>\n",
       "      <td>MultinomialNB</td>\n",
       "      <td>0.639640</td>\n",
       "      <td>0.707324</td>\n",
       "      <td>0.639640</td>\n",
       "      <td>0.587574</td>\n",
       "    </tr>\n",
       "    <tr>\n",
       "      <th>3</th>\n",
       "      <td>BernoulliNB</td>\n",
       "      <td>0.739583</td>\n",
       "      <td>0.742950</td>\n",
       "      <td>0.739583</td>\n",
       "      <td>0.737226</td>\n",
       "    </tr>\n",
       "    <tr>\n",
       "      <th>4</th>\n",
       "      <td>GradientBoost</td>\n",
       "      <td>0.838682</td>\n",
       "      <td>0.855298</td>\n",
       "      <td>0.838682</td>\n",
       "      <td>0.838493</td>\n",
       "    </tr>\n",
       "    <tr>\n",
       "      <th>5</th>\n",
       "      <td>XGBoost</td>\n",
       "      <td>0.885698</td>\n",
       "      <td>0.894402</td>\n",
       "      <td>0.885698</td>\n",
       "      <td>0.885774</td>\n",
       "    </tr>\n",
       "  </tbody>\n",
       "</table>\n",
       "</div>"
      ],
      "text/plain": [
       "     model_names  accuracy  precision    recall  f1_score\n",
       "0      LinearSVC  0.932714   0.933004  0.932714  0.932659\n",
       "1  LogRegression  0.893581   0.894356  0.893581  0.893442\n",
       "2  MultinomialNB  0.639640   0.707324  0.639640  0.587574\n",
       "3    BernoulliNB  0.739583   0.742950  0.739583  0.737226\n",
       "4  GradientBoost  0.838682   0.855298  0.838682  0.838493\n",
       "5        XGBoost  0.885698   0.894402  0.885698  0.885774"
      ]
     },
     "execution_count": 139,
     "metadata": {},
     "output_type": "execute_result"
    }
   ],
   "source": [
    "# list of model objects\n",
    "model_objects = [lin_svc_ds, log_reg_ds, multi_nb_ds, bern_nb_ds, grad_boost_ds, xg_boost_ds]\n",
    "\n",
    "# list of model names\n",
    "model_names = ['LinearSVC', 'LogRegression','MultinomialNB','BernoulliNB','GradientBoost','XGBoost']\n",
    "\n",
    "# DataFrame to Compare models\n",
    "met_df = metrics_comparison(model_objects,model_names, X_test, y_test, enc_test)\n",
    "met_df"
   ]
  },
  {
   "cell_type": "markdown",
   "id": "894ec346",
   "metadata": {},
   "source": [
    "###  `From above metrics comparison,` \n",
    "### `we could confirm that Linear SVC model performs better than all other models`"
   ]
  },
  {
   "cell_type": "markdown",
   "id": "88e17b89",
   "metadata": {},
   "source": [
    "# Working with test dataset"
   ]
  },
  {
   "cell_type": "code",
   "execution_count": 141,
   "id": "fd07af18",
   "metadata": {},
   "outputs": [
    {
     "data": {
      "text/plain": [
       "array(['Negative', 'Positive', 'Positive', ..., 'Positive', 'Positive',\n",
       "       'Positive'], dtype=object)"
      ]
     },
     "execution_count": 141,
     "metadata": {},
     "output_type": "execute_result"
    }
   ],
   "source": [
    "pred = lin_svc_ds.predict(X_test)\n",
    "pred"
   ]
  },
  {
   "cell_type": "code",
   "execution_count": 142,
   "id": "b02d536a",
   "metadata": {},
   "outputs": [],
   "source": [
    "pred = pd.DataFrame(pred, columns=['predictions'])"
   ]
  },
  {
   "cell_type": "code",
   "execution_count": 143,
   "id": "874c8103",
   "metadata": {
    "scrolled": false
   },
   "outputs": [
    {
     "data": {
      "text/html": [
       "<div>\n",
       "<style scoped>\n",
       "    .dataframe tbody tr th:only-of-type {\n",
       "        vertical-align: middle;\n",
       "    }\n",
       "\n",
       "    .dataframe tbody tr th {\n",
       "        vertical-align: top;\n",
       "    }\n",
       "\n",
       "    .dataframe thead th {\n",
       "        text-align: right;\n",
       "    }\n",
       "</style>\n",
       "<table border=\"1\" class=\"dataframe\">\n",
       "  <thead>\n",
       "    <tr style=\"text-align: right;\">\n",
       "      <th></th>\n",
       "      <th>predictions</th>\n",
       "    </tr>\n",
       "  </thead>\n",
       "  <tbody>\n",
       "    <tr>\n",
       "      <th>0</th>\n",
       "      <td>Negative</td>\n",
       "    </tr>\n",
       "    <tr>\n",
       "      <th>1</th>\n",
       "      <td>Positive</td>\n",
       "    </tr>\n",
       "    <tr>\n",
       "      <th>2</th>\n",
       "      <td>Positive</td>\n",
       "    </tr>\n",
       "    <tr>\n",
       "      <th>3</th>\n",
       "      <td>Positive</td>\n",
       "    </tr>\n",
       "    <tr>\n",
       "      <th>4</th>\n",
       "      <td>Negative</td>\n",
       "    </tr>\n",
       "    <tr>\n",
       "      <th>...</th>\n",
       "      <td>...</td>\n",
       "    </tr>\n",
       "    <tr>\n",
       "      <th>3547</th>\n",
       "      <td>Negative</td>\n",
       "    </tr>\n",
       "    <tr>\n",
       "      <th>3548</th>\n",
       "      <td>Positive</td>\n",
       "    </tr>\n",
       "    <tr>\n",
       "      <th>3549</th>\n",
       "      <td>Positive</td>\n",
       "    </tr>\n",
       "    <tr>\n",
       "      <th>3550</th>\n",
       "      <td>Positive</td>\n",
       "    </tr>\n",
       "    <tr>\n",
       "      <th>3551</th>\n",
       "      <td>Positive</td>\n",
       "    </tr>\n",
       "  </tbody>\n",
       "</table>\n",
       "<p>3552 rows × 1 columns</p>\n",
       "</div>"
      ],
      "text/plain": [
       "     predictions\n",
       "0       Negative\n",
       "1       Positive\n",
       "2       Positive\n",
       "3       Positive\n",
       "4       Negative\n",
       "...          ...\n",
       "3547    Negative\n",
       "3548    Positive\n",
       "3549    Positive\n",
       "3550    Positive\n",
       "3551    Positive\n",
       "\n",
       "[3552 rows x 1 columns]"
      ]
     },
     "execution_count": 143,
     "metadata": {},
     "output_type": "execute_result"
    }
   ],
   "source": [
    "pred"
   ]
  },
  {
   "cell_type": "markdown",
   "id": "f4e1e460",
   "metadata": {},
   "source": [
    "# Now working with headlines + description"
   ]
  },
  {
   "cell_type": "markdown",
   "id": "fb62e64e",
   "metadata": {},
   "source": [
    "`After working only with description, we could get above performance from the respective alogrithms.`\n",
    "\n",
    "`Now we will try to increase our text content by concatenating headlines and description column and training the models on the combined data`"
   ]
  },
  {
   "cell_type": "code",
   "execution_count": 144,
   "id": "69c1989a",
   "metadata": {},
   "outputs": [
    {
     "data": {
      "text/html": [
       "<div>\n",
       "<style scoped>\n",
       "    .dataframe tbody tr th:only-of-type {\n",
       "        vertical-align: middle;\n",
       "    }\n",
       "\n",
       "    .dataframe tbody tr th {\n",
       "        vertical-align: top;\n",
       "    }\n",
       "\n",
       "    .dataframe thead th {\n",
       "        text-align: right;\n",
       "    }\n",
       "</style>\n",
       "<table border=\"1\" class=\"dataframe\">\n",
       "  <thead>\n",
       "    <tr style=\"text-align: right;\">\n",
       "      <th></th>\n",
       "      <th>Headlines</th>\n",
       "      <th>Time</th>\n",
       "      <th>Description</th>\n",
       "      <th>ds_score</th>\n",
       "      <th>info</th>\n",
       "    </tr>\n",
       "  </thead>\n",
       "  <tbody>\n",
       "    <tr>\n",
       "      <th>0</th>\n",
       "      <td>Jim Cramer: A better way to invest in the Covi...</td>\n",
       "      <td>7:51  PM ET Fri, 17 July 2020</td>\n",
       "      <td>mad money host jim cramer recommend buy four c...</td>\n",
       "      <td>Positive</td>\n",
       "      <td>Jim Cramer: A better way to invest in the Covi...</td>\n",
       "    </tr>\n",
       "    <tr>\n",
       "      <th>1</th>\n",
       "      <td>Cramer's lightning round: I would own Teradyne</td>\n",
       "      <td>7:33  PM ET Fri, 17 July 2020</td>\n",
       "      <td>mad money host jim cramer ring lightn round be...</td>\n",
       "      <td>Negative</td>\n",
       "      <td>Cramer's lightning round: I would own Teradyne...</td>\n",
       "    </tr>\n",
       "    <tr>\n",
       "      <th>3</th>\n",
       "      <td>Cramer's week ahead: Big week for earnings, ev...</td>\n",
       "      <td>7:25  PM ET Fri, 17 July 2020</td>\n",
       "      <td>well pay earn noncovid compani lancet publish ...</td>\n",
       "      <td>Positive</td>\n",
       "      <td>Cramer's week ahead: Big week for earnings, ev...</td>\n",
       "    </tr>\n",
       "    <tr>\n",
       "      <th>4</th>\n",
       "      <td>IQ Capital CEO Keith Bliss says tech and healt...</td>\n",
       "      <td>4:24  PM ET Fri, 17 July 2020</td>\n",
       "      <td>keith bliss iq capit ceo join close bell talk ...</td>\n",
       "      <td>Positive</td>\n",
       "      <td>IQ Capital CEO Keith Bliss says tech and healt...</td>\n",
       "    </tr>\n",
       "    <tr>\n",
       "      <th>5</th>\n",
       "      <td>Wall Street delivered the 'kind of pullback I'...</td>\n",
       "      <td>7:36  PM ET Thu, 16 July 2020</td>\n",
       "      <td>look stock highqual compani go lower even thou...</td>\n",
       "      <td>Negative</td>\n",
       "      <td>Wall Street delivered the 'kind of pullback I'...</td>\n",
       "    </tr>\n",
       "  </tbody>\n",
       "</table>\n",
       "</div>"
      ],
      "text/plain": [
       "                                           Headlines  \\\n",
       "0  Jim Cramer: A better way to invest in the Covi...   \n",
       "1     Cramer's lightning round: I would own Teradyne   \n",
       "3  Cramer's week ahead: Big week for earnings, ev...   \n",
       "4  IQ Capital CEO Keith Bliss says tech and healt...   \n",
       "5  Wall Street delivered the 'kind of pullback I'...   \n",
       "\n",
       "                             Time  \\\n",
       "0   7:51  PM ET Fri, 17 July 2020   \n",
       "1   7:33  PM ET Fri, 17 July 2020   \n",
       "3   7:25  PM ET Fri, 17 July 2020   \n",
       "4   4:24  PM ET Fri, 17 July 2020   \n",
       "5   7:36  PM ET Thu, 16 July 2020   \n",
       "\n",
       "                                         Description  ds_score  \\\n",
       "0  mad money host jim cramer recommend buy four c...  Positive   \n",
       "1  mad money host jim cramer ring lightn round be...  Negative   \n",
       "3  well pay earn noncovid compani lancet publish ...  Positive   \n",
       "4  keith bliss iq capit ceo join close bell talk ...  Positive   \n",
       "5  look stock highqual compani go lower even thou...  Negative   \n",
       "\n",
       "                                                info  \n",
       "0  Jim Cramer: A better way to invest in the Covi...  \n",
       "1  Cramer's lightning round: I would own Teradyne...  \n",
       "3  Cramer's week ahead: Big week for earnings, ev...  \n",
       "4  IQ Capital CEO Keith Bliss says tech and healt...  \n",
       "5  Wall Street delivered the 'kind of pullback I'...  "
      ]
     },
     "execution_count": 144,
     "metadata": {},
     "output_type": "execute_result"
    }
   ],
   "source": [
    "cnbc_reu['info'] = cnbc_reu['Headlines'] + ' ' + cnbc_reu['Description']\n",
    "cnbc_reu.head()"
   ]
  },
  {
   "cell_type": "code",
   "execution_count": 145,
   "id": "51759792",
   "metadata": {},
   "outputs": [
    {
     "data": {
      "text/html": [
       "<div>\n",
       "<style scoped>\n",
       "    .dataframe tbody tr th:only-of-type {\n",
       "        vertical-align: middle;\n",
       "    }\n",
       "\n",
       "    .dataframe tbody tr th {\n",
       "        vertical-align: top;\n",
       "    }\n",
       "\n",
       "    .dataframe thead th {\n",
       "        text-align: right;\n",
       "    }\n",
       "</style>\n",
       "<table border=\"1\" class=\"dataframe\">\n",
       "  <thead>\n",
       "    <tr style=\"text-align: right;\">\n",
       "      <th></th>\n",
       "      <th>Time</th>\n",
       "      <th>info</th>\n",
       "    </tr>\n",
       "  </thead>\n",
       "  <tbody>\n",
       "    <tr>\n",
       "      <th>0</th>\n",
       "      <td>7:51  PM ET Fri, 17 July 2020</td>\n",
       "      <td>Jim Cramer: A better way to invest in the Covi...</td>\n",
       "    </tr>\n",
       "    <tr>\n",
       "      <th>1</th>\n",
       "      <td>7:33  PM ET Fri, 17 July 2020</td>\n",
       "      <td>Cramer's lightning round: I would own Teradyne...</td>\n",
       "    </tr>\n",
       "    <tr>\n",
       "      <th>3</th>\n",
       "      <td>7:25  PM ET Fri, 17 July 2020</td>\n",
       "      <td>Cramer's week ahead: Big week for earnings, ev...</td>\n",
       "    </tr>\n",
       "    <tr>\n",
       "      <th>4</th>\n",
       "      <td>4:24  PM ET Fri, 17 July 2020</td>\n",
       "      <td>IQ Capital CEO Keith Bliss says tech and healt...</td>\n",
       "    </tr>\n",
       "    <tr>\n",
       "      <th>5</th>\n",
       "      <td>7:36  PM ET Thu, 16 July 2020</td>\n",
       "      <td>Wall Street delivered the 'kind of pullback I'...</td>\n",
       "    </tr>\n",
       "  </tbody>\n",
       "</table>\n",
       "</div>"
      ],
      "text/plain": [
       "                             Time  \\\n",
       "0   7:51  PM ET Fri, 17 July 2020   \n",
       "1   7:33  PM ET Fri, 17 July 2020   \n",
       "3   7:25  PM ET Fri, 17 July 2020   \n",
       "4   4:24  PM ET Fri, 17 July 2020   \n",
       "5   7:36  PM ET Thu, 16 July 2020   \n",
       "\n",
       "                                                info  \n",
       "0  Jim Cramer: A better way to invest in the Covi...  \n",
       "1  Cramer's lightning round: I would own Teradyne...  \n",
       "3  Cramer's week ahead: Big week for earnings, ev...  \n",
       "4  IQ Capital CEO Keith Bliss says tech and healt...  \n",
       "5  Wall Street delivered the 'kind of pullback I'...  "
      ]
     },
     "execution_count": 145,
     "metadata": {},
     "output_type": "execute_result"
    }
   ],
   "source": [
    "cnbc_new = cnbc_reu.drop(['Headlines', 'Description', 'ds_score'], axis=1)\n",
    "cnbc_new.head()"
   ]
  },
  {
   "cell_type": "code",
   "execution_count": 146,
   "id": "2aed2243",
   "metadata": {},
   "outputs": [
    {
     "data": {
      "text/html": [
       "<div>\n",
       "<style scoped>\n",
       "    .dataframe tbody tr th:only-of-type {\n",
       "        vertical-align: middle;\n",
       "    }\n",
       "\n",
       "    .dataframe tbody tr th {\n",
       "        vertical-align: top;\n",
       "    }\n",
       "\n",
       "    .dataframe thead th {\n",
       "        text-align: right;\n",
       "    }\n",
       "</style>\n",
       "<table border=\"1\" class=\"dataframe\">\n",
       "  <thead>\n",
       "    <tr style=\"text-align: right;\">\n",
       "      <th></th>\n",
       "      <th>Time</th>\n",
       "      <th>info</th>\n",
       "    </tr>\n",
       "  </thead>\n",
       "  <tbody>\n",
       "    <tr>\n",
       "      <th>0</th>\n",
       "      <td>7:51  PM ET Fri, 17 July 2020</td>\n",
       "      <td>jim cramer better way invest covid19 vaccin go...</td>\n",
       "    </tr>\n",
       "    <tr>\n",
       "      <th>1</th>\n",
       "      <td>7:33  PM ET Fri, 17 July 2020</td>\n",
       "      <td>cramer lightn round would teradyn mad money ho...</td>\n",
       "    </tr>\n",
       "    <tr>\n",
       "      <th>3</th>\n",
       "      <td>7:25  PM ET Fri, 17 July 2020</td>\n",
       "      <td>cramer week ahead big week earn even bigger we...</td>\n",
       "    </tr>\n",
       "    <tr>\n",
       "      <th>4</th>\n",
       "      <td>4:24  PM ET Fri, 17 July 2020</td>\n",
       "      <td>iq capit ceo keith bliss say tech healthcar ra...</td>\n",
       "    </tr>\n",
       "    <tr>\n",
       "      <th>5</th>\n",
       "      <td>7:36  PM ET Thu, 16 July 2020</td>\n",
       "      <td>wall street deliv kind pullback ive wait jim c...</td>\n",
       "    </tr>\n",
       "    <tr>\n",
       "      <th>...</th>\n",
       "      <td>...</td>\n",
       "      <td>...</td>\n",
       "    </tr>\n",
       "    <tr>\n",
       "      <th>32765</th>\n",
       "      <td>Mar 20 2018</td>\n",
       "      <td>malaysia say never hire british data firm cent...</td>\n",
       "    </tr>\n",
       "    <tr>\n",
       "      <th>32766</th>\n",
       "      <td>Mar 20 2018</td>\n",
       "      <td>prosecutor search volkswagen headquart new emi...</td>\n",
       "    </tr>\n",
       "    <tr>\n",
       "      <th>32767</th>\n",
       "      <td>Mar 20 2018</td>\n",
       "      <td>mcdonald set greenhous ga reduct target mcdona...</td>\n",
       "    </tr>\n",
       "    <tr>\n",
       "      <th>32768</th>\n",
       "      <td>Mar 20 2018</td>\n",
       "      <td>pratt whitney deliv spare a320neo engin soon i...</td>\n",
       "    </tr>\n",
       "    <tr>\n",
       "      <th>32769</th>\n",
       "      <td>Mar 20 2018</td>\n",
       "      <td>uk alway consid way improv data law pm may spo...</td>\n",
       "    </tr>\n",
       "  </tbody>\n",
       "</table>\n",
       "<p>35515 rows × 2 columns</p>\n",
       "</div>"
      ],
      "text/plain": [
       "                                 Time  \\\n",
       "0       7:51  PM ET Fri, 17 July 2020   \n",
       "1       7:33  PM ET Fri, 17 July 2020   \n",
       "3       7:25  PM ET Fri, 17 July 2020   \n",
       "4       4:24  PM ET Fri, 17 July 2020   \n",
       "5       7:36  PM ET Thu, 16 July 2020   \n",
       "...                               ...   \n",
       "32765                     Mar 20 2018   \n",
       "32766                     Mar 20 2018   \n",
       "32767                     Mar 20 2018   \n",
       "32768                     Mar 20 2018   \n",
       "32769                     Mar 20 2018   \n",
       "\n",
       "                                                    info  \n",
       "0      jim cramer better way invest covid19 vaccin go...  \n",
       "1      cramer lightn round would teradyn mad money ho...  \n",
       "3      cramer week ahead big week earn even bigger we...  \n",
       "4      iq capit ceo keith bliss say tech healthcar ra...  \n",
       "5      wall street deliv kind pullback ive wait jim c...  \n",
       "...                                                  ...  \n",
       "32765  malaysia say never hire british data firm cent...  \n",
       "32766  prosecutor search volkswagen headquart new emi...  \n",
       "32767  mcdonald set greenhous ga reduct target mcdona...  \n",
       "32768  pratt whitney deliv spare a320neo engin soon i...  \n",
       "32769  uk alway consid way improv data law pm may spo...  \n",
       "\n",
       "[35515 rows x 2 columns]"
      ]
     },
     "execution_count": 146,
     "metadata": {},
     "output_type": "execute_result"
    }
   ],
   "source": [
    "cnbc_new['info'] = cnbc_new['info'].apply(preprocessing_text)\n",
    "cnbc_new"
   ]
  },
  {
   "cell_type": "code",
   "execution_count": 147,
   "id": "c19f15a8",
   "metadata": {},
   "outputs": [
    {
     "data": {
      "text/html": [
       "<div>\n",
       "<style scoped>\n",
       "    .dataframe tbody tr th:only-of-type {\n",
       "        vertical-align: middle;\n",
       "    }\n",
       "\n",
       "    .dataframe tbody tr th {\n",
       "        vertical-align: top;\n",
       "    }\n",
       "\n",
       "    .dataframe thead th {\n",
       "        text-align: right;\n",
       "    }\n",
       "</style>\n",
       "<table border=\"1\" class=\"dataframe\">\n",
       "  <thead>\n",
       "    <tr style=\"text-align: right;\">\n",
       "      <th></th>\n",
       "      <th>Time</th>\n",
       "      <th>info</th>\n",
       "      <th>ds_score</th>\n",
       "    </tr>\n",
       "  </thead>\n",
       "  <tbody>\n",
       "    <tr>\n",
       "      <th>0</th>\n",
       "      <td>7:51  PM ET Fri, 17 July 2020</td>\n",
       "      <td>jim cramer better way invest covid19 vaccin go...</td>\n",
       "      <td>Positive</td>\n",
       "    </tr>\n",
       "    <tr>\n",
       "      <th>1</th>\n",
       "      <td>7:33  PM ET Fri, 17 July 2020</td>\n",
       "      <td>cramer lightn round would teradyn mad money ho...</td>\n",
       "      <td>Negative</td>\n",
       "    </tr>\n",
       "    <tr>\n",
       "      <th>3</th>\n",
       "      <td>7:25  PM ET Fri, 17 July 2020</td>\n",
       "      <td>cramer week ahead big week earn even bigger we...</td>\n",
       "      <td>Positive</td>\n",
       "    </tr>\n",
       "    <tr>\n",
       "      <th>4</th>\n",
       "      <td>4:24  PM ET Fri, 17 July 2020</td>\n",
       "      <td>iq capit ceo keith bliss say tech healthcar ra...</td>\n",
       "      <td>Positive</td>\n",
       "    </tr>\n",
       "    <tr>\n",
       "      <th>5</th>\n",
       "      <td>7:36  PM ET Thu, 16 July 2020</td>\n",
       "      <td>wall street deliv kind pullback ive wait jim c...</td>\n",
       "      <td>Negative</td>\n",
       "    </tr>\n",
       "    <tr>\n",
       "      <th>...</th>\n",
       "      <td>...</td>\n",
       "      <td>...</td>\n",
       "      <td>...</td>\n",
       "    </tr>\n",
       "    <tr>\n",
       "      <th>32765</th>\n",
       "      <td>Mar 20 2018</td>\n",
       "      <td>malaysia say never hire british data firm cent...</td>\n",
       "      <td>Neutral</td>\n",
       "    </tr>\n",
       "    <tr>\n",
       "      <th>32766</th>\n",
       "      <td>Mar 20 2018</td>\n",
       "      <td>prosecutor search volkswagen headquart new emi...</td>\n",
       "      <td>Neutral</td>\n",
       "    </tr>\n",
       "    <tr>\n",
       "      <th>32767</th>\n",
       "      <td>Mar 20 2018</td>\n",
       "      <td>mcdonald set greenhous ga reduct target mcdona...</td>\n",
       "      <td>Negative</td>\n",
       "    </tr>\n",
       "    <tr>\n",
       "      <th>32768</th>\n",
       "      <td>Mar 20 2018</td>\n",
       "      <td>pratt whitney deliv spare a320neo engin soon i...</td>\n",
       "      <td>Negative</td>\n",
       "    </tr>\n",
       "    <tr>\n",
       "      <th>32769</th>\n",
       "      <td>Mar 20 2018</td>\n",
       "      <td>uk alway consid way improv data law pm may spo...</td>\n",
       "      <td>Positive</td>\n",
       "    </tr>\n",
       "  </tbody>\n",
       "</table>\n",
       "<p>35515 rows × 3 columns</p>\n",
       "</div>"
      ],
      "text/plain": [
       "                                 Time  \\\n",
       "0       7:51  PM ET Fri, 17 July 2020   \n",
       "1       7:33  PM ET Fri, 17 July 2020   \n",
       "3       7:25  PM ET Fri, 17 July 2020   \n",
       "4       4:24  PM ET Fri, 17 July 2020   \n",
       "5       7:36  PM ET Thu, 16 July 2020   \n",
       "...                               ...   \n",
       "32765                     Mar 20 2018   \n",
       "32766                     Mar 20 2018   \n",
       "32767                     Mar 20 2018   \n",
       "32768                     Mar 20 2018   \n",
       "32769                     Mar 20 2018   \n",
       "\n",
       "                                                    info  ds_score  \n",
       "0      jim cramer better way invest covid19 vaccin go...  Positive  \n",
       "1      cramer lightn round would teradyn mad money ho...  Negative  \n",
       "3      cramer week ahead big week earn even bigger we...  Positive  \n",
       "4      iq capit ceo keith bliss say tech healthcar ra...  Positive  \n",
       "5      wall street deliv kind pullback ive wait jim c...  Negative  \n",
       "...                                                  ...       ...  \n",
       "32765  malaysia say never hire british data firm cent...   Neutral  \n",
       "32766  prosecutor search volkswagen headquart new emi...   Neutral  \n",
       "32767  mcdonald set greenhous ga reduct target mcdona...  Negative  \n",
       "32768  pratt whitney deliv spare a320neo engin soon i...  Negative  \n",
       "32769  uk alway consid way improv data law pm may spo...  Positive  \n",
       "\n",
       "[35515 rows x 3 columns]"
      ]
     },
     "execution_count": 147,
     "metadata": {},
     "output_type": "execute_result"
    }
   ],
   "source": [
    "cnbc_new = sentiment_analysis(cnbc_new, 'info')\n",
    "cnbc_new"
   ]
  },
  {
   "cell_type": "code",
   "execution_count": 150,
   "id": "d14e286f",
   "metadata": {},
   "outputs": [
    {
     "data": {
      "text/plain": [
       "Positive    15822\n",
       "Negative    13622\n",
       "Neutral      6071\n",
       "Name: ds_score, dtype: int64"
      ]
     },
     "execution_count": 150,
     "metadata": {},
     "output_type": "execute_result"
    }
   ],
   "source": [
    "cnbc_new['ds_score'].value_counts()"
   ]
  },
  {
   "cell_type": "code",
   "execution_count": 148,
   "id": "073d1496",
   "metadata": {},
   "outputs": [
    {
     "data": {
      "image/png": "[encoded data removed]",
      "text/plain": [
       "<Figure size 432x288 with 1 Axes>"
      ]
     },
     "metadata": {
      "needs_background": "light"
     },
     "output_type": "display_data"
    }
   ],
   "source": [
    "sns.countplot(x='ds_score', data=cnbc_new);"
   ]
  },
  {
   "cell_type": "code",
   "execution_count": 152,
   "id": "44b9d11d",
   "metadata": {},
   "outputs": [
    {
     "data": {
      "image/png": "[encoded data removed]",
      "text/plain": [
       "<Figure size 432x288 with 1 Axes>"
      ]
     },
     "metadata": {},
     "output_type": "display_data"
    }
   ],
   "source": [
    "plt.pie([15822, 13622, 6071], explode=[0.1,0.1,0.1], labels=['Positive','Negative','Neutral'], autopct='%.1f', startangle=90)\n",
    "plt.show()"
   ]
  },
  {
   "cell_type": "markdown",
   "id": "3c0e7f52",
   "metadata": {},
   "source": [
    "#### Above plot gives a clear distribution of three class types of target attribute.\n",
    "\n",
    "`44.6% positive statments`\n",
    "\n",
    "`38.4% negtive statements`\n",
    "\n",
    "`17.1% neutral statments`"
   ]
  },
  {
   "cell_type": "markdown",
   "id": "6d4eed81",
   "metadata": {},
   "source": [
    "# Modelling on headlines + description"
   ]
  },
  {
   "cell_type": "code",
   "execution_count": 60,
   "id": "a7eab673",
   "metadata": {},
   "outputs": [
    {
     "name": "stdout",
     "output_type": "stream",
     "text": [
      "(31963,) (3552,) (31963,) (3552,)\n"
     ]
    }
   ],
   "source": [
    "X = cnbc_new['info']\n",
    "y = cnbc_new.ds_score\n",
    "\n",
    "X_train, X_test, y_train, y_test = train_test_split(X, y, test_size=0.1, random_state=212)\n",
    "print(X_train.shape, X_test.shape, y_train.shape, y_test.shape)"
   ]
  },
  {
   "cell_type": "markdown",
   "id": "884e5e97",
   "metadata": {},
   "source": [
    "### LINEAR SUPPORT VECTOR MACHINE"
   ]
  },
  {
   "cell_type": "code",
   "execution_count": 83,
   "id": "c6104b79",
   "metadata": {},
   "outputs": [
    {
     "name": "stdout",
     "output_type": "stream",
     "text": [
      "MODEL: LINEAR SVC\n",
      "accuarcy score:  0.901463963963964\n",
      "[[1212   45   91]\n",
      " [  40  502   52]\n",
      " [  73   49 1488]]\n",
      "              precision    recall  f1-score   support\n",
      "\n",
      "    Negative       0.91      0.90      0.91      1348\n",
      "     Neutral       0.84      0.85      0.84       594\n",
      "    Positive       0.91      0.92      0.92      1610\n",
      "\n",
      "    accuracy                           0.90      3552\n",
      "   macro avg       0.89      0.89      0.89      3552\n",
      "weighted avg       0.90      0.90      0.90      3552\n",
      "\n"
     ]
    }
   ],
   "source": [
    "# Fit the pipeline to the data\n",
    "lin_svc_info = Pipeline([('tfidf', TfidfVectorizer()),\n",
    "                      ('lin_svc', LinearSVC())])\n",
    "\n",
    "lin_svc_info.fit(X_train, y_train)\n",
    "\n",
    "# predict on test dataset\n",
    "pred = lin_svc_info.predict(X_test)\n",
    "\n",
    "print(\"MODEL: LINEAR SVC\")\n",
    "\n",
    "# print accuracy score\n",
    "print(\"accuarcy score: \", accuracy_score(y_test, pred))\n",
    "\n",
    "#print confusion matrix\n",
    "print(confusion_matrix(y_test, pred))\n",
    "\n",
    "#print classification report\n",
    "print(classification_report(y_test, pred))"
   ]
  },
  {
   "cell_type": "markdown",
   "id": "4cabc62b",
   "metadata": {},
   "source": [
    "### LOGISTIC REGRESSION"
   ]
  },
  {
   "cell_type": "code",
   "execution_count": 84,
   "id": "4dd6cace",
   "metadata": {},
   "outputs": [
    {
     "name": "stdout",
     "output_type": "stream",
     "text": [
      "MODEL: LOGISTIC REGRESSION\n",
      "accuarcy score:  0.8693693693693694\n",
      "[[1187   48  113]\n",
      " [  78  432   84]\n",
      " [  92   49 1469]]\n",
      "              precision    recall  f1-score   support\n",
      "\n",
      "    Negative       0.87      0.88      0.88      1348\n",
      "     Neutral       0.82      0.73      0.77       594\n",
      "    Positive       0.88      0.91      0.90      1610\n",
      "\n",
      "    accuracy                           0.87      3552\n",
      "   macro avg       0.86      0.84      0.85      3552\n",
      "weighted avg       0.87      0.87      0.87      3552\n",
      "\n"
     ]
    },
    {
     "name": "stderr",
     "output_type": "stream",
     "text": [
      "C:\\ProgramData\\Anaconda3\\lib\\site-packages\\sklearn\\linear_model\\_logistic.py:763: ConvergenceWarning: lbfgs failed to converge (status=1):\n",
      "STOP: TOTAL NO. of ITERATIONS REACHED LIMIT.\n",
      "\n",
      "Increase the number of iterations (max_iter) or scale the data as shown in:\n",
      "    https://scikit-learn.org/stable/modules/preprocessing.html\n",
      "Please also refer to the documentation for alternative solver options:\n",
      "    https://scikit-learn.org/stable/modules/linear_model.html#logistic-regression\n",
      "  n_iter_i = _check_optimize_result(\n"
     ]
    }
   ],
   "source": [
    "# Fit the pipeline to the data\n",
    "log_reg_info = Pipeline([('count_vec', CountVectorizer()),\n",
    "                      ('tfidf', TfidfTransformer()),\n",
    "                      ('log_reg', LogisticRegression())])\n",
    "\n",
    "log_reg_info.fit(X_train, y_train)\n",
    "\n",
    "# predict on test dataset\n",
    "pred = log_reg_info.predict(X_test)\n",
    "\n",
    "print(\"MODEL: LOGISTIC REGRESSION\")\n",
    "\n",
    "# print accuracy score\n",
    "print(\"accuarcy score: \", accuracy_score(y_test, pred))\n",
    "\n",
    "#print confusion matrix\n",
    "print(confusion_matrix(y_test, pred))\n",
    "\n",
    "#print classification report\n",
    "print(classification_report(y_test, pred))"
   ]
  },
  {
   "cell_type": "markdown",
   "id": "0cc72b51",
   "metadata": {},
   "source": [
    "### MULTINOMIAL NAIVE BAYES"
   ]
  },
  {
   "cell_type": "code",
   "execution_count": 85,
   "id": "8e7ffa6b",
   "metadata": {},
   "outputs": [
    {
     "name": "stdout",
     "output_type": "stream",
     "text": [
      "MODEL: Multinomial NB\n",
      "accuarcy score:  0.6697635135135135\n",
      "[[ 958    0  390]\n",
      " [ 160   13  421]\n",
      " [ 202    0 1408]]\n",
      "              precision    recall  f1-score   support\n",
      "\n",
      "    Negative       0.73      0.71      0.72      1348\n",
      "     Neutral       1.00      0.02      0.04       594\n",
      "    Positive       0.63      0.87      0.74      1610\n",
      "\n",
      "    accuracy                           0.67      3552\n",
      "   macro avg       0.79      0.54      0.50      3552\n",
      "weighted avg       0.73      0.67      0.61      3552\n",
      "\n"
     ]
    }
   ],
   "source": [
    "# Fit the pipeline to the data\n",
    "multi_nb_info = Pipeline([('count_vec', CountVectorizer()),\n",
    "                      ('tfidf', TfidfTransformer()),\n",
    "                      ('multi_nb', MultinomialNB())])\n",
    "\n",
    "multi_nb_info.fit(X_train, y_train)\n",
    "\n",
    "# predict on test dataset\n",
    "pred = multi_nb_info.predict(X_test)\n",
    "\n",
    "print(\"MODEL: Multinomial NB\")\n",
    "\n",
    "# print accuracy score\n",
    "print(\"accuarcy score: \", accuracy_score(y_test, pred))\n",
    "\n",
    "#print confusion matrix\n",
    "print(confusion_matrix(y_test, pred))\n",
    "\n",
    "#print classification report\n",
    "print(classification_report(y_test, pred))"
   ]
  },
  {
   "cell_type": "markdown",
   "id": "15e2a46d",
   "metadata": {},
   "source": [
    "### BERNOULLI NAIVE BAYES"
   ]
  },
  {
   "cell_type": "code",
   "execution_count": 86,
   "id": "db442a30",
   "metadata": {},
   "outputs": [
    {
     "name": "stdout",
     "output_type": "stream",
     "text": [
      "MODEL: Bernoulli's NB\n",
      "accuarcy score:  0.7212837837837838\n",
      "[[1007   47  294]\n",
      " [ 137  285  172]\n",
      " [ 269   71 1270]]\n",
      "              precision    recall  f1-score   support\n",
      "\n",
      "    Negative       0.71      0.75      0.73      1348\n",
      "     Neutral       0.71      0.48      0.57       594\n",
      "    Positive       0.73      0.79      0.76      1610\n",
      "\n",
      "    accuracy                           0.72      3552\n",
      "   macro avg       0.72      0.67      0.69      3552\n",
      "weighted avg       0.72      0.72      0.72      3552\n",
      "\n"
     ]
    }
   ],
   "source": [
    "# Fit the pipeline to the data\n",
    "bern_nb_info = Pipeline([('count_vec', CountVectorizer()),\n",
    "                      ('tfidf', TfidfTransformer()),\n",
    "                      ('bern_nb', BernoulliNB())])\n",
    "\n",
    "bern_nb_info.fit(X_train, y_train)\n",
    "\n",
    "# predict on test dataset\n",
    "pred = bern_nb_info.predict(X_test)\n",
    "\n",
    "print(\"MODEL: Bernoulli's NB\")\n",
    "\n",
    "# print accuracy score\n",
    "print(\"accuarcy score: \", accuracy_score(y_test, pred))\n",
    "\n",
    "#print confusion matrix\n",
    "print(confusion_matrix(y_test, pred))\n",
    "\n",
    "#print classification report\n",
    "print(classification_report(y_test, pred))"
   ]
  },
  {
   "cell_type": "markdown",
   "id": "7844f125",
   "metadata": {},
   "source": [
    "### GRADIENT BOOSTING CLASSIFICATION MODEL"
   ]
  },
  {
   "cell_type": "code",
   "execution_count": 87,
   "id": "72f9987e",
   "metadata": {},
   "outputs": [
    {
     "name": "stdout",
     "output_type": "stream",
     "text": [
      "MODEL: Gradient Boosting\n",
      "accuarcy score:  0.7243806306306306\n",
      "[[ 991   24  333]\n",
      " [   4  104  486]\n",
      " [ 112   20 1478]]\n",
      "              precision    recall  f1-score   support\n",
      "\n",
      "    Negative       0.90      0.74      0.81      1348\n",
      "     Neutral       0.70      0.18      0.28       594\n",
      "    Positive       0.64      0.92      0.76      1610\n",
      "\n",
      "    accuracy                           0.72      3552\n",
      "   macro avg       0.75      0.61      0.61      3552\n",
      "weighted avg       0.75      0.72      0.70      3552\n",
      "\n"
     ]
    }
   ],
   "source": [
    "# Fit the pipeline to the data\n",
    "grad_boost_info = Pipeline([('count_vec', CountVectorizer()),\n",
    "                      ('tfidf', TfidfTransformer()),\n",
    "                      ('grad_boost', GradientBoostingClassifier())])\n",
    "\n",
    "grad_boost_info.fit(X_train, y_train)\n",
    "\n",
    "# predict on test dataset\n",
    "pred = grad_boost_info.predict(X_test)\n",
    "\n",
    "print(\"MODEL: Gradient Boosting\")\n",
    "\n",
    "# print accuracy score\n",
    "print(\"accuarcy score: \", accuracy_score(y_test, pred))\n",
    "\n",
    "#print confusion matrix\n",
    "print(confusion_matrix(y_test, pred))\n",
    "\n",
    "#print classification report\n",
    "print(classification_report(y_test, pred))"
   ]
  },
  {
   "cell_type": "markdown",
   "id": "80150726",
   "metadata": {},
   "source": [
    "### XGBOOST CLASSIFICATION MODEL"
   ]
  },
  {
   "cell_type": "code",
   "execution_count": 88,
   "id": "8600b45b",
   "metadata": {},
   "outputs": [
    {
     "name": "stdout",
     "output_type": "stream",
     "text": [
      "MODEL: XG Boost\n",
      "accuarcy score:  0.8848536036036037\n",
      "[[1117  106  125]\n",
      " [   3  585    6]\n",
      " [  96   73 1441]]\n",
      "              precision    recall  f1-score   support\n",
      "\n",
      "           0       0.92      0.83      0.87      1348\n",
      "           1       0.77      0.98      0.86       594\n",
      "           2       0.92      0.90      0.91      1610\n",
      "\n",
      "    accuracy                           0.88      3552\n",
      "   macro avg       0.87      0.90      0.88      3552\n",
      "weighted avg       0.89      0.88      0.89      3552\n",
      "\n"
     ]
    }
   ],
   "source": [
    "# Fit the pipeline to the data\n",
    "xg_boost_ds = Pipeline([('count_vec', CountVectorizer()),\n",
    "                      ('tfidf', TfidfTransformer()),\n",
    "                      ('xgb', XGBClassifier())])\n",
    "\n",
    "encoder = LabelEncoder()\n",
    "enc_train = encoder.fit_transform(y_train)\n",
    "enc_test = encoder.fit_transform(y_test)\n",
    "\n",
    "xg_boost_ds.fit(X_train, enc_train)\n",
    "\n",
    "# predict on test dataset\n",
    "pred = xg_boost_ds.predict(X_test)\n",
    "\n",
    "print(\"MODEL: XG Boost\")\n",
    "\n",
    "# print accuracy score\n",
    "print(\"accuarcy score: \", accuracy_score(enc_test, pred))\n",
    "\n",
    "#print confusion matrix\n",
    "print(confusion_matrix(enc_test, pred))\n",
    "\n",
    "#print classification report\n",
    "print(classification_report(enc_test, pred))"
   ]
  },
  {
   "cell_type": "markdown",
   "id": "6cb60b35",
   "metadata": {},
   "source": [
    "## Comparing Metrics"
   ]
  },
  {
   "cell_type": "code",
   "execution_count": 70,
   "id": "02b53f4b",
   "metadata": {},
   "outputs": [
    {
     "data": {
      "text/html": [
       "<div>\n",
       "<style scoped>\n",
       "    .dataframe tbody tr th:only-of-type {\n",
       "        vertical-align: middle;\n",
       "    }\n",
       "\n",
       "    .dataframe tbody tr th {\n",
       "        vertical-align: top;\n",
       "    }\n",
       "\n",
       "    .dataframe thead th {\n",
       "        text-align: right;\n",
       "    }\n",
       "</style>\n",
       "<table border=\"1\" class=\"dataframe\">\n",
       "  <thead>\n",
       "    <tr style=\"text-align: right;\">\n",
       "      <th></th>\n",
       "      <th>model_names</th>\n",
       "      <th>accuracy</th>\n",
       "      <th>precision</th>\n",
       "      <th>recall</th>\n",
       "      <th>f1_score</th>\n",
       "    </tr>\n",
       "  </thead>\n",
       "  <tbody>\n",
       "    <tr>\n",
       "      <th>0</th>\n",
       "      <td>LinearSVC</td>\n",
       "      <td>0.901464</td>\n",
       "      <td>0.901519</td>\n",
       "      <td>0.901464</td>\n",
       "      <td>0.901448</td>\n",
       "    </tr>\n",
       "    <tr>\n",
       "      <th>1</th>\n",
       "      <td>LogRegression</td>\n",
       "      <td>0.869369</td>\n",
       "      <td>0.868196</td>\n",
       "      <td>0.869369</td>\n",
       "      <td>0.868227</td>\n",
       "    </tr>\n",
       "    <tr>\n",
       "      <th>2</th>\n",
       "      <td>MultinomialNB</td>\n",
       "      <td>0.669764</td>\n",
       "      <td>0.730264</td>\n",
       "      <td>0.669764</td>\n",
       "      <td>0.613051</td>\n",
       "    </tr>\n",
       "    <tr>\n",
       "      <th>3</th>\n",
       "      <td>BernoulliNB</td>\n",
       "      <td>0.721284</td>\n",
       "      <td>0.720319</td>\n",
       "      <td>0.721284</td>\n",
       "      <td>0.716517</td>\n",
       "    </tr>\n",
       "    <tr>\n",
       "      <th>4</th>\n",
       "      <td>GradientBoost</td>\n",
       "      <td>0.721002</td>\n",
       "      <td>0.746890</td>\n",
       "      <td>0.721002</td>\n",
       "      <td>0.693343</td>\n",
       "    </tr>\n",
       "    <tr>\n",
       "      <th>5</th>\n",
       "      <td>XGBoost</td>\n",
       "      <td>0.884854</td>\n",
       "      <td>0.892150</td>\n",
       "      <td>0.884854</td>\n",
       "      <td>0.885271</td>\n",
       "    </tr>\n",
       "  </tbody>\n",
       "</table>\n",
       "</div>"
      ],
      "text/plain": [
       "     model_names  accuracy  precision    recall  f1_score\n",
       "0      LinearSVC  0.901464   0.901519  0.901464  0.901448\n",
       "1  LogRegression  0.869369   0.868196  0.869369  0.868227\n",
       "2  MultinomialNB  0.669764   0.730264  0.669764  0.613051\n",
       "3    BernoulliNB  0.721284   0.720319  0.721284  0.716517\n",
       "4  GradientBoost  0.721002   0.746890  0.721002  0.693343\n",
       "5        XGBoost  0.884854   0.892150  0.884854  0.885271"
      ]
     },
     "execution_count": 70,
     "metadata": {},
     "output_type": "execute_result"
    }
   ],
   "source": [
    "model_objects = [lin_svc_info, log_reg_info, multi_nb_info, bern_nb_info, grad_boost_info, xg_boost_ds]\n",
    "\n",
    "# list of model names\n",
    "model_names = ['LinearSVC', 'LogRegression','MultinomialNB','BernoulliNB','GradientBoost','XGBoost']\n",
    "\n",
    "# comparison of models\n",
    "met_info_df = metrics_comparison(model_objects,model_names, X_test, y_test, enc_test)\n",
    "met_info_df"
   ]
  },
  {
   "cell_type": "markdown",
   "id": "0ba2831f",
   "metadata": {},
   "source": [
    "### Observations\n",
    "\n",
    ">    Compared to description, model trained on both headlines and description has metrics/perfromance little lower than former one in case of Linear SVC model\n",
    "\n",
    "> XG boost model performs well on both training set"
   ]
  },
  {
   "cell_type": "markdown",
   "id": "39a97e63",
   "metadata": {},
   "source": [
    "## Working with test data"
   ]
  },
  {
   "cell_type": "code",
   "execution_count": 71,
   "id": "bde8186d",
   "metadata": {},
   "outputs": [
    {
     "data": {
      "text/plain": [
       "array(['Negative', 'Negative', 'Positive', ..., 'Neutral', 'Positive',\n",
       "       'Positive'], dtype=object)"
      ]
     },
     "execution_count": 71,
     "metadata": {},
     "output_type": "execute_result"
    }
   ],
   "source": [
    "prediction = lin_svc_info.predict(X_test)\n",
    "prediction"
   ]
  },
  {
   "cell_type": "code",
   "execution_count": 72,
   "id": "42c1d45e",
   "metadata": {},
   "outputs": [],
   "source": [
    "preds = pd.DataFrame(prediction, columns=['predictions'])"
   ]
  },
  {
   "cell_type": "code",
   "execution_count": 73,
   "id": "854ee331",
   "metadata": {},
   "outputs": [
    {
     "data": {
      "text/html": [
       "<div>\n",
       "<style scoped>\n",
       "    .dataframe tbody tr th:only-of-type {\n",
       "        vertical-align: middle;\n",
       "    }\n",
       "\n",
       "    .dataframe tbody tr th {\n",
       "        vertical-align: top;\n",
       "    }\n",
       "\n",
       "    .dataframe thead th {\n",
       "        text-align: right;\n",
       "    }\n",
       "</style>\n",
       "<table border=\"1\" class=\"dataframe\">\n",
       "  <thead>\n",
       "    <tr style=\"text-align: right;\">\n",
       "      <th></th>\n",
       "      <th>predictions</th>\n",
       "    </tr>\n",
       "  </thead>\n",
       "  <tbody>\n",
       "    <tr>\n",
       "      <th>0</th>\n",
       "      <td>Negative</td>\n",
       "    </tr>\n",
       "    <tr>\n",
       "      <th>1</th>\n",
       "      <td>Negative</td>\n",
       "    </tr>\n",
       "    <tr>\n",
       "      <th>2</th>\n",
       "      <td>Positive</td>\n",
       "    </tr>\n",
       "    <tr>\n",
       "      <th>3</th>\n",
       "      <td>Positive</td>\n",
       "    </tr>\n",
       "    <tr>\n",
       "      <th>4</th>\n",
       "      <td>Negative</td>\n",
       "    </tr>\n",
       "    <tr>\n",
       "      <th>...</th>\n",
       "      <td>...</td>\n",
       "    </tr>\n",
       "    <tr>\n",
       "      <th>3547</th>\n",
       "      <td>Negative</td>\n",
       "    </tr>\n",
       "    <tr>\n",
       "      <th>3548</th>\n",
       "      <td>Positive</td>\n",
       "    </tr>\n",
       "    <tr>\n",
       "      <th>3549</th>\n",
       "      <td>Neutral</td>\n",
       "    </tr>\n",
       "    <tr>\n",
       "      <th>3550</th>\n",
       "      <td>Positive</td>\n",
       "    </tr>\n",
       "    <tr>\n",
       "      <th>3551</th>\n",
       "      <td>Positive</td>\n",
       "    </tr>\n",
       "  </tbody>\n",
       "</table>\n",
       "<p>3552 rows × 1 columns</p>\n",
       "</div>"
      ],
      "text/plain": [
       "     predictions\n",
       "0       Negative\n",
       "1       Negative\n",
       "2       Positive\n",
       "3       Positive\n",
       "4       Negative\n",
       "...          ...\n",
       "3547    Negative\n",
       "3548    Positive\n",
       "3549     Neutral\n",
       "3550    Positive\n",
       "3551    Positive\n",
       "\n",
       "[3552 rows x 1 columns]"
      ]
     },
     "execution_count": 73,
     "metadata": {},
     "output_type": "execute_result"
    }
   ],
   "source": [
    "preds"
   ]
  },
  {
   "cell_type": "markdown",
   "id": "34500571",
   "metadata": {},
   "source": [
    "## Prediction"
   ]
  },
  {
   "cell_type": "code",
   "execution_count": 74,
   "id": "d28f10fe",
   "metadata": {},
   "outputs": [
    {
     "data": {
      "text/plain": [
       "array(['Negative'], dtype=object)"
      ]
     },
     "execution_count": 74,
     "metadata": {},
     "output_type": "execute_result"
    }
   ],
   "source": [
    "sentence1 = ['GST officers detect Rs 4,000 crore of ITC fraud in April-June']\n",
    "y_predict = lin_svc_ds.predict(sentence1)\n",
    "y_predict"
   ]
  },
  {
   "cell_type": "code",
   "execution_count": 75,
   "id": "ec5bf552",
   "metadata": {},
   "outputs": [
    {
     "data": {
      "text/plain": [
       "array(['Positive'], dtype=object)"
      ]
     },
     "execution_count": 75,
     "metadata": {},
     "output_type": "execute_result"
    }
   ],
   "source": [
    "sentence2 = [\"Finance Ministry releases Rs 9,871 crore to 17 states as grant\"]\n",
    "y_predict = lin_svc_ds.predict(sentence2)\n",
    "y_predict"
   ]
  },
  {
   "cell_type": "markdown",
   "id": "8c23e0f6",
   "metadata": {},
   "source": [
    "## Conclusion"
   ]
  },
  {
   "cell_type": "markdown",
   "id": "a2c3b82c",
   "metadata": {},
   "source": [
    "> we conclude that by using nltk, It is easy to classify financial news and with more appropiate training data, we can improve the accuracy of model and also can improve by tuning the hyperparamters.\n",
    "\n",
    "> Further Deploying model on web page and testing the model are necessary to get  buisness required result."
   ]
  },
  {
   "cell_type": "code",
   "execution_count": null,
   "id": "5da6f29d",
   "metadata": {},
   "outputs": [],
   "source": []
  }
 ],
 "metadata": {
  "kernelspec": {
   "display_name": "Python 3 (ipykernel)",
   "language": "python",
   "name": "python3"
  },
  "language_info": {
   "codemirror_mode": {
    "name": "ipython",
    "version": 3
   },
   "file_extension": ".py",
   "mimetype": "text/x-python",
   "name": "python",
   "nbconvert_exporter": "python",
   "pygments_lexer": "ipython3",
   "version": "3.9.7"
  }
 },
 "nbformat": 4,
 "nbformat_minor": 5
}
